{
 "cells": [
  {
   "cell_type": "code",
   "execution_count": 16,
   "metadata": {},
   "outputs": [],
   "source": [
    "import pandas as pd\n",
    "import numpy as np\n",
    "import nltk\n",
    "import re\n",
    "import datetime\n",
    "import math\n",
    "import matplotlib.pyplot as plt\n",
    "import pickle \n",
    "import copy\n",
    "\n",
    "\n",
    "from tqdm import tqdm\n",
    "from heapq import nlargest\n",
    "from nltk.corpus import stopwords \n",
    "from collections import OrderedDict\n",
    "from itertools import islice\n",
    "from nltk.stem import PorterStemmer\n",
    "from nltk.stem import WordNetLemmatizer"
   ]
  },
  {
   "source": [
    "# Neural Network spam classifier\n",
    "In order to classify messages as spam or ham, we are going to use a neural network. This model have one input, hidden and output layer, and the sigmoid function as activation function."
   ],
   "cell_type": "markdown",
   "metadata": {}
  },
  {
   "cell_type": "code",
   "execution_count": 40,
   "metadata": {},
   "outputs": [],
   "source": [
    "class NeuralNetwork:\n",
    "    def __init__(self, input_nodes, hidden_nodes, output_nodes, learning_rate=0.1):\n",
    "        self.input_nodes = input_nodes\n",
    "        self.hidden_nodes = hidden_nodes\n",
    "        self.output_nodes = output_nodes\n",
    "        self.weights_input_hidden = np.random.uniform(-1,1,size=(hidden_nodes, input_nodes))\n",
    "        self.weights_hidden_output = np.random.uniform(-1,1,size=(output_nodes, hidden_nodes))\n",
    "        self.bias_hidden = np.ones((hidden_nodes,1))\n",
    "        self.bias_output = np.ones((output_nodes,1))\n",
    "        self.learning_rate=learning_rate\n",
    "        \n",
    "    def sigmoid(self,x):\n",
    "        return 1/(1+ math.exp(-x))\n",
    "    \n",
    "    def derivate(self,x):\n",
    "        return x*(1-x)\n",
    "    \n",
    "   \n",
    "    def feedforward(self,input_v):\n",
    "        sigmoid_vector = np.vectorize(self.sigmoid)\n",
    "        \n",
    "        input_vector = input_v.reshape((self.input_nodes,1))\n",
    "    \n",
    "        hidden = np.dot(self.weights_input_hidden,input_vector)\n",
    "        hidden = np.add(hidden, self.bias_hidden)\n",
    "        hidden = sigmoid_vector(hidden)\n",
    "    \n",
    "        output = np.dot(self.weights_hidden_output, hidden)\n",
    "        output = np.add(output, self.bias_output)\n",
    "        output = sigmoid_vector(output)\n",
    "    \n",
    "        return output\n",
    "    \n",
    "    def backpropagation(self, input_v, target_v):\n",
    "        input_vector = input_v.reshape((self.input_nodes,1))\n",
    "        target_vector = target_v.reshape((self.output_nodes,1))\n",
    "        \n",
    "        sigmoid_vector = np.vectorize(self.sigmoid)\n",
    "        derivate_vector = np.vectorize(self.derivate)\n",
    "    \n",
    "        hidden = np.dot(self.weights_input_hidden,input_vector)\n",
    "        hidden = np.add(hidden, self.bias_hidden)\n",
    "        hidden = sigmoid_vector(hidden)\n",
    "        \n",
    "        output = np.dot(self.weights_hidden_output, hidden)\n",
    "        output = np.add(output, self.bias_output)\n",
    "        output = sigmoid_vector(output)\n",
    "\n",
    "        \n",
    "\n",
    "        output_error = np.subtract(target_vector,output)\n",
    "        error = output_error.sum(0)\n",
    "        \n",
    "        gradient = derivate_vector(output)\n",
    "        gradient = np.multiply(gradient,output_error)\n",
    "        gradient = np.multiply(gradient, self.learning_rate)\n",
    "        \n",
    "        hidden_transpose = np.transpose(hidden)\n",
    "        weights_ho_deltas = np.dot(gradient, hidden_transpose)\n",
    "        \n",
    "        self.weights_hidden_output = np.add(self.weights_hidden_output, weights_ho_deltas)\n",
    "        self.bias_output = np.add(self.bias_output, gradient)\n",
    "        \n",
    "        \n",
    "        transpose_weights_hidden_output = np.transpose(self.weights_hidden_output)\n",
    "        hidden_error = np.dot(transpose_weights_hidden_output, output_error)\n",
    "        \n",
    "    \n",
    "        hidden_gradient = derivate_vector(hidden)\n",
    "        hidden_gradient = np.multiply(hidden_gradient, hidden_error)\n",
    "        hidden_gradient = np.multiply(hidden_gradient, self.learning_rate)\n",
    "        \n",
    "        input_transpose = np.transpose(input_vector)\n",
    "        weights_ih_deltas = np.dot(hidden_gradient, input_transpose)\n",
    "        \n",
    "        self.weights_input_hidden = np.add(self.weights_input_hidden, weights_ih_deltas)\n",
    "        self.bias_hidden = np.add(self.bias_hidden, hidden_gradient)\n",
    "\n",
    "        return error\n",
    "    \n",
    "\n",
    "    def train(self, train_dataframe, epochs):\n",
    "        spam = 0\n",
    "        ham = 0\n",
    "        iteration = 0\n",
    "        error_sample = 200\n",
    "        errors = []\n",
    "\n",
    "        for i in tqdm(range(epochs)):\n",
    "            print(\" Epoch\", i)\n",
    "            for index, row in train_dataframe.iterrows():\n",
    "                spam+=(row['label_tag'])  \n",
    "                input_v = row.to_numpy()\n",
    "                input_v = input_v[1:len(input_v)-1]\n",
    "                target_v = np.array([row['label_tag']])\n",
    "                error = self.backpropagation(input_v, target_v)    \n",
    "                if iteration%error_sample == 0:\n",
    "                    errors.append(error)\n",
    "                iteration += 1\n",
    "            \n",
    "        ham = (len(train_dataframe)*epochs)-spam\n",
    "        print(f\"Spam:{spam} - Ham:{ham}\")\n",
    "        print(\"Done\")  \n",
    "\n",
    "        return np.array(errors)"
   ]
  },
  {
   "source": [
    "### These are utils class for parsing, reading and saving data from the datasets"
   ],
   "cell_type": "markdown",
   "metadata": {}
  },
  {
   "cell_type": "code",
   "execution_count": 41,
   "metadata": {},
   "outputs": [],
   "source": [
    "class DataUtil:\n",
    "    stemmer = PorterStemmer()\n",
    "    lemmatizer = WordNetLemmatizer()\n",
    "    stop_words = set(stopwords.words('english'))\n",
    "\n",
    "    @staticmethod\n",
    "    def normalize_data(message):\n",
    "        message = re.sub(r\"\\$[\\d]+\",'price',message)\n",
    "        message = re.sub(r\"\\%[\\d]+\",'percentage',message)\n",
    "        message = re.sub(r\"http[s]?://(?:[a-zA-Z]|[0-9]|[$-_@.&+]|[!*\\(\\),]|(?:%[0-9a-fA-F][0-9a-fA-F]))+\",'url',message)\n",
    "        message = re.sub(r\"www.(?:[a-zA-Z]|[0-9]|[$-_@.&+]|[!*\\(\\),]|(?:%[0-9a-fA-F][0-9a-fA-F]))+\",'url',message)\n",
    "        message = re.sub(r\"(^[a-zA-Z0-9_.+-]+@[a-zA-Z0-9-]+\\.[a-zA-Z0-9-.]+$)\",'email',message)\n",
    "        message = re.sub(r'[\\W\\d]',' ',message)\n",
    "        message = re.sub(r'[\\s+]',' ',message)\n",
    "        message.strip()\n",
    "        return message\n",
    "\n",
    "    @staticmethod\n",
    "    def clean_data(message):\n",
    "        message = message.lower() \n",
    "        message = DataUtil.normalize_data(message)\n",
    "        words = nltk.word_tokenize(message)\n",
    "\n",
    "        result = []\n",
    "        for word in words:\n",
    "            if word not in DataUtil.stop_words and len(word)>2:   \n",
    "                #words = DataUtil.stemmer.stem(words[i])\n",
    "                word = DataUtil.lemmatizer.lemmatize(word)\n",
    "                result.append(word)  \n",
    "        return result\n",
    "\n",
    "    @staticmethod\n",
    "    def order_and_take(data, key, n=None):\n",
    "        data = OrderedDict(sorted(data.items(), key=lambda i: i[1][key], reverse=True))\n",
    "        if n!=None:\n",
    "            data = dict(islice(data.items(), n))\n",
    "        return data\n",
    "\n",
    "\n",
    "class DocumentReader:\n",
    "    def __init__(self, document):\n",
    "        self.document = document\n",
    "        self.words_data = {}\n",
    "\n",
    "    def get_words(self):\n",
    "        df = pd.read_csv(self.document)\n",
    "        words_list = dict()\n",
    "\n",
    "        for index, row in df.iterrows():\n",
    "            words = DataUtil.clean_data(row['message'])\n",
    "            for word in words: \n",
    "                if word not in words_list.keys():\n",
    "                    words_list[word] = 1\n",
    "                else:\n",
    "                    words_list[word] += 1\n",
    "        \n",
    "        result = { key:val for key, val in words_list.items() if val > 10}\n",
    "        result = nlargest(3000, result, key=result.get)\n",
    "        return result"
   ]
  },
  {
   "cell_type": "code",
   "execution_count": 42,
   "metadata": {},
   "outputs": [],
   "source": [
    "class Data:\n",
    "    @staticmethod\n",
    "    def tf(sentences):    \n",
    "        words_counter = {}\n",
    "        for index, sentence in enumerate(sentences):\n",
    "            words = DataUtil.clean_data(sentence)\n",
    "            for word in words: \n",
    "                    if word not in words_counter.keys(): \n",
    "                        words_counter[word] = {}\n",
    "                        words_counter[word]['sentences'] = {}\n",
    "                    if index not in words_counter[word]['sentences'].keys():\n",
    "                        words_counter[word]['sentences'][index] = 1/len(words)         \n",
    "                    else:\n",
    "                        words_counter[word]['sentences'][index] += 1/len(words)\n",
    "        return words_counter\n",
    "\n",
    "    @staticmethod\n",
    "    def tf_idf(message):\n",
    "        sentences = nltk.sent_tokenize(message)\n",
    "        words_count = Data.tf(sentences)\n",
    "        words_data = {}\n",
    "\n",
    "        for key, element in words_count.items():\n",
    "            words_data[key] = [0 for i in range(len(sentences))]\n",
    "            idf = math.log(len(sentences)/len(element['sentences']))\n",
    "            for index, sentence_ratio in element['sentences'].items():    \n",
    "                words_data[key][index] = sentence_ratio * idf\n",
    "        return words_data\n",
    "          \n",
    "    @staticmethod\n",
    "    def get_inputs_count(message, words_list):  \n",
    "        words = DataUtil.clean_data(message)  \n",
    "        inputs = np.zeros(len(words_list))\n",
    "\n",
    "        for index, word in enumerate(words_list):\n",
    "            if word in words:\n",
    "                inputs[index] +=1 \n",
    "        return inputs\n",
    "\n",
    "    @staticmethod\n",
    "    def load_unique_words(dataframe):\n",
    "        unique_words = {}\n",
    "        for index,row in dataframe.iterrows():\n",
    "            unique_words[row['word']] = 0\n",
    "        return unique_words\n"
   ]
  },
  {
   "source": [
    "First of all we need to get all the unique words from our dataset, so we parse each message into tokens and keep the most frequent words"
   ],
   "cell_type": "markdown",
   "metadata": {}
  },
  {
   "cell_type": "code",
   "execution_count": 43,
   "metadata": {
    "tags": []
   },
   "outputs": [
    {
     "output_type": "execute_result",
     "data": {
      "text/plain": [
       "         word\n",
       "0        call\n",
       "1         get\n",
       "2         day\n",
       "3        free\n",
       "4        know\n",
       "..        ...\n",
       "755  discount\n",
       "756       std\n",
       "757   dogging\n",
       "758       hmv\n",
       "759   fantasy\n",
       "\n",
       "[760 rows x 1 columns]"
      ],
      "text/html": "<div>\n<style scoped>\n    .dataframe tbody tr th:only-of-type {\n        vertical-align: middle;\n    }\n\n    .dataframe tbody tr th {\n        vertical-align: top;\n    }\n\n    .dataframe thead th {\n        text-align: right;\n    }\n</style>\n<table border=\"1\" class=\"dataframe\">\n  <thead>\n    <tr style=\"text-align: right;\">\n      <th></th>\n      <th>word</th>\n    </tr>\n  </thead>\n  <tbody>\n    <tr>\n      <th>0</th>\n      <td>call</td>\n    </tr>\n    <tr>\n      <th>1</th>\n      <td>get</td>\n    </tr>\n    <tr>\n      <th>2</th>\n      <td>day</td>\n    </tr>\n    <tr>\n      <th>3</th>\n      <td>free</td>\n    </tr>\n    <tr>\n      <th>4</th>\n      <td>know</td>\n    </tr>\n    <tr>\n      <th>...</th>\n      <td>...</td>\n    </tr>\n    <tr>\n      <th>755</th>\n      <td>discount</td>\n    </tr>\n    <tr>\n      <th>756</th>\n      <td>std</td>\n    </tr>\n    <tr>\n      <th>757</th>\n      <td>dogging</td>\n    </tr>\n    <tr>\n      <th>758</th>\n      <td>hmv</td>\n    </tr>\n    <tr>\n      <th>759</th>\n      <td>fantasy</td>\n    </tr>\n  </tbody>\n</table>\n<p>760 rows × 1 columns</p>\n</div>"
     },
     "metadata": {},
     "execution_count": 43
    }
   ],
   "source": [
    "#ham_document_reader = DocumentReader('ham.csv')\n",
    "#spam_document_reader = DocumentReader('spam.csv')\n",
    "spam_ham_document_reader = DocumentReader('spamham.csv')\n",
    "\n",
    "unique_words = spam_ham_document_reader.get_words()\n",
    "unique_words_df = pd.DataFrame(unique_words, columns=['word'])\n",
    "unique_words_df.to_csv('words.csv')\n",
    "\n",
    "unique_words_df"
   ]
  },
  {
   "source": [
    "Then we load the full dataset and split it into the train and test data"
   ],
   "cell_type": "markdown",
   "metadata": {}
  },
  {
   "cell_type": "code",
   "execution_count": 44,
   "metadata": {},
   "outputs": [
    {
     "output_type": "execute_result",
     "data": {
      "text/plain": [
       "  class                                            message  label_tag\n",
       "0   ham  Go until jurong point, crazy.. Available only ...          0\n",
       "1   ham                      Ok lar... Joking wif u oni...          0\n",
       "2   ham  U dun say so early hor... U c already then say...          0\n",
       "3   ham  Nah I don't think he goes to usf, he lives aro...          0\n",
       "4   ham  Even my brother is not like to speak with me. ...          0"
      ],
      "text/html": "<div>\n<style scoped>\n    .dataframe tbody tr th:only-of-type {\n        vertical-align: middle;\n    }\n\n    .dataframe tbody tr th {\n        vertical-align: top;\n    }\n\n    .dataframe thead th {\n        text-align: right;\n    }\n</style>\n<table border=\"1\" class=\"dataframe\">\n  <thead>\n    <tr style=\"text-align: right;\">\n      <th></th>\n      <th>class</th>\n      <th>message</th>\n      <th>label_tag</th>\n    </tr>\n  </thead>\n  <tbody>\n    <tr>\n      <th>0</th>\n      <td>ham</td>\n      <td>Go until jurong point, crazy.. Available only ...</td>\n      <td>0</td>\n    </tr>\n    <tr>\n      <th>1</th>\n      <td>ham</td>\n      <td>Ok lar... Joking wif u oni...</td>\n      <td>0</td>\n    </tr>\n    <tr>\n      <th>2</th>\n      <td>ham</td>\n      <td>U dun say so early hor... U c already then say...</td>\n      <td>0</td>\n    </tr>\n    <tr>\n      <th>3</th>\n      <td>ham</td>\n      <td>Nah I don't think he goes to usf, he lives aro...</td>\n      <td>0</td>\n    </tr>\n    <tr>\n      <th>4</th>\n      <td>ham</td>\n      <td>Even my brother is not like to speak with me. ...</td>\n      <td>0</td>\n    </tr>\n  </tbody>\n</table>\n</div>"
     },
     "metadata": {},
     "execution_count": 44
    }
   ],
   "source": [
    "df = pd.read_csv('spamham.csv')\n",
    "df[\"label_tag\"] = df[\"class\"].map({'ham':0, 'spam':1})\n",
    "df.head()"
   ]
  },
  {
   "cell_type": "code",
   "execution_count": 45,
   "metadata": {},
   "outputs": [
    {
     "output_type": "execute_result",
     "data": {
      "text/plain": [
       "     class                                            message  label_tag\n",
       "3649   ham  Yo you around? A friend of mine's lookin to pi...          0\n",
       "2040   ham  Watching tv lor... Y she so funny we bluff her...          0\n",
       "2463   ham  Japanese Proverb: If one Can do it, U too Can ...          0\n",
       "5462  spam  Camera - You are awarded a SiPix Digital Camer...          1\n",
       "4433   ham  Wot about on wed nite I am 3 then but only til 9!          0"
      ],
      "text/html": "<div>\n<style scoped>\n    .dataframe tbody tr th:only-of-type {\n        vertical-align: middle;\n    }\n\n    .dataframe tbody tr th {\n        vertical-align: top;\n    }\n\n    .dataframe thead th {\n        text-align: right;\n    }\n</style>\n<table border=\"1\" class=\"dataframe\">\n  <thead>\n    <tr style=\"text-align: right;\">\n      <th></th>\n      <th>class</th>\n      <th>message</th>\n      <th>label_tag</th>\n    </tr>\n  </thead>\n  <tbody>\n    <tr>\n      <th>3649</th>\n      <td>ham</td>\n      <td>Yo you around? A friend of mine's lookin to pi...</td>\n      <td>0</td>\n    </tr>\n    <tr>\n      <th>2040</th>\n      <td>ham</td>\n      <td>Watching tv lor... Y she so funny we bluff her...</td>\n      <td>0</td>\n    </tr>\n    <tr>\n      <th>2463</th>\n      <td>ham</td>\n      <td>Japanese Proverb: If one Can do it, U too Can ...</td>\n      <td>0</td>\n    </tr>\n    <tr>\n      <th>5462</th>\n      <td>spam</td>\n      <td>Camera - You are awarded a SiPix Digital Camer...</td>\n      <td>1</td>\n    </tr>\n    <tr>\n      <th>4433</th>\n      <td>ham</td>\n      <td>Wot about on wed nite I am 3 then but only til 9!</td>\n      <td>0</td>\n    </tr>\n  </tbody>\n</table>\n</div>"
     },
     "metadata": {},
     "execution_count": 45
    }
   ],
   "source": [
    "train_set = df.sample(frac=0.8)\n",
    "train_set.head()"
   ]
  },
  {
   "cell_type": "code",
   "execution_count": 46,
   "metadata": {},
   "outputs": [
    {
     "output_type": "execute_result",
     "data": {
      "text/plain": [
       "   class                                            message  label_tag\n",
       "8    ham                I HAVE A DATE ON SUNDAY WITH WILL!!          0\n",
       "12   ham          Is that seriously how you spell his name?          0\n",
       "13   ham  I???m going to try for 2 months ha ha only joking          0\n",
       "14   ham  So ?_ pay first lar... Then when is da stock c...          0\n",
       "15   ham  Aft i finish my lunch then i go str down lor. ...          0"
      ],
      "text/html": "<div>\n<style scoped>\n    .dataframe tbody tr th:only-of-type {\n        vertical-align: middle;\n    }\n\n    .dataframe tbody tr th {\n        vertical-align: top;\n    }\n\n    .dataframe thead th {\n        text-align: right;\n    }\n</style>\n<table border=\"1\" class=\"dataframe\">\n  <thead>\n    <tr style=\"text-align: right;\">\n      <th></th>\n      <th>class</th>\n      <th>message</th>\n      <th>label_tag</th>\n    </tr>\n  </thead>\n  <tbody>\n    <tr>\n      <th>8</th>\n      <td>ham</td>\n      <td>I HAVE A DATE ON SUNDAY WITH WILL!!</td>\n      <td>0</td>\n    </tr>\n    <tr>\n      <th>12</th>\n      <td>ham</td>\n      <td>Is that seriously how you spell his name?</td>\n      <td>0</td>\n    </tr>\n    <tr>\n      <th>13</th>\n      <td>ham</td>\n      <td>I???m going to try for 2 months ha ha only joking</td>\n      <td>0</td>\n    </tr>\n    <tr>\n      <th>14</th>\n      <td>ham</td>\n      <td>So ?_ pay first lar... Then when is da stock c...</td>\n      <td>0</td>\n    </tr>\n    <tr>\n      <th>15</th>\n      <td>ham</td>\n      <td>Aft i finish my lunch then i go str down lor. ...</td>\n      <td>0</td>\n    </tr>\n  </tbody>\n</table>\n</div>"
     },
     "metadata": {},
     "execution_count": 46
    }
   ],
   "source": [
    "test_set = df.drop(train_set.index)\n",
    "test_set.head()"
   ]
  },
  {
   "source": [
    "Now we get the inputs for all the train set. Each input is an array of lenght N, where N is the number of unique words in out dataset and its value, the frequency of each word in the message"
   ],
   "cell_type": "markdown",
   "metadata": {}
  },
  {
   "cell_type": "code",
   "execution_count": 47,
   "metadata": {
    "tags": []
   },
   "outputs": [],
   "source": [
    "train_data_set = np.zeros((len(train_set),len(unique_words)+1))\n",
    "iter = 0\n",
    "\n",
    "for index, row in train_set.iterrows():\n",
    "    inputs = Data.get_inputs_count(row['message'],unique_words)\n",
    "    inputs = np.append(inputs, int(row['label_tag']))\n",
    "    train_data_set[iter] = inputs\n",
    "    iter+=1\n",
    "\n",
    "indexes = [i for i in range(iter)]\n",
    "columns = copy.deepcopy(unique_words)\n",
    "columns.append('label_tag')\n",
    "\n",
    "train_dataframe = pd.DataFrame(data=train_data_set, index = indexes, columns= columns)\n",
    "train_dataframe.to_csv('train_set.csv')"
   ]
  },
  {
   "source": [
    "Now we create a neural network with input, hidden and output layer of size N, N+1//2 and 1 size. Each unique word will be represented as an element in the input layer and we expect an unique result (1 spam - 0 ham).\n",
    "\n",
    "- N is the number of unique words"
   ],
   "cell_type": "markdown",
   "metadata": {}
  },
  {
   "cell_type": "code",
   "execution_count": 48,
   "metadata": {},
   "outputs": [
    {
     "output_type": "stream",
     "name": "stderr",
     "text": [
      "  0%|          | 0/20 [00:00<?, ?it/s]Epoch 0\n",
      "  5%|▌         | 1/20 [00:09<02:52,  9.06s/it]Epoch 1\n",
      " 10%|█         | 2/20 [00:17<02:39,  8.86s/it]Epoch 2\n",
      " 15%|█▌        | 3/20 [00:26<02:29,  8.80s/it]Epoch 3\n",
      " 20%|██        | 4/20 [00:34<02:20,  8.80s/it]Epoch 4\n",
      " 25%|██▌       | 5/20 [00:43<02:13,  8.87s/it]Epoch 5\n",
      " 30%|███       | 6/20 [00:55<02:13,  9.57s/it]Epoch 6\n",
      " 35%|███▌      | 7/20 [01:07<02:16, 10.53s/it]Epoch 7\n",
      " 40%|████      | 8/20 [01:21<02:18, 11.51s/it]Epoch 8\n",
      " 45%|████▌     | 9/20 [01:33<02:08, 11.67s/it]Epoch 9\n",
      " 50%|█████     | 10/20 [01:44<01:54, 11.43s/it]Epoch 10\n",
      " 55%|█████▌    | 11/20 [01:53<01:35, 10.66s/it]Epoch 11\n",
      " 60%|██████    | 12/20 [02:02<01:21, 10.13s/it]Epoch 12\n",
      " 65%|██████▌   | 13/20 [02:11<01:08,  9.77s/it]Epoch 13\n",
      " 70%|███████   | 14/20 [02:20<00:57,  9.66s/it]Epoch 14\n",
      " 75%|███████▌  | 15/20 [02:31<00:50, 10.08s/it]Epoch 15\n",
      " 80%|████████  | 16/20 [02:41<00:40, 10.10s/it]Epoch 16\n",
      " 85%|████████▌ | 17/20 [02:50<00:29,  9.68s/it]Epoch 17\n",
      " 90%|█████████ | 18/20 [02:59<00:18,  9.41s/it]Epoch 18\n",
      " 95%|█████████▌| 19/20 [03:08<00:09,  9.23s/it]Epoch 19\n",
      "100%|██████████| 20/20 [03:19<00:00,  9.97s/it]\n",
      "Spam:12020.0 - Ham:77140.0\n",
      "Done\n"
     ]
    },
    {
     "output_type": "display_data",
     "data": {
      "text/plain": "<Figure size 432x288 with 1 Axes>",
      "image/svg+xml": "<?xml version=\"1.0\" encoding=\"utf-8\" standalone=\"no\"?>\r\n<!DOCTYPE svg PUBLIC \"-//W3C//DTD SVG 1.1//EN\"\r\n  \"http://www.w3.org/Graphics/SVG/1.1/DTD/svg11.dtd\">\r\n<!-- Created with matplotlib (https://matplotlib.org/) -->\r\n<svg height=\"248.518125pt\" version=\"1.1\" viewBox=\"0 0 386.845312 248.518125\" width=\"386.845312pt\" xmlns=\"http://www.w3.org/2000/svg\" xmlns:xlink=\"http://www.w3.org/1999/xlink\">\r\n <metadata>\r\n  <rdf:RDF xmlns:cc=\"http://creativecommons.org/ns#\" xmlns:dc=\"http://purl.org/dc/elements/1.1/\" xmlns:rdf=\"http://www.w3.org/1999/02/22-rdf-syntax-ns#\">\r\n   <cc:Work>\r\n    <dc:type rdf:resource=\"http://purl.org/dc/dcmitype/StillImage\"/>\r\n    <dc:date>2020-11-07T23:12:43.436175</dc:date>\r\n    <dc:format>image/svg+xml</dc:format>\r\n    <dc:creator>\r\n     <cc:Agent>\r\n      <dc:title>Matplotlib v3.3.1, https://matplotlib.org/</dc:title>\r\n     </cc:Agent>\r\n    </dc:creator>\r\n   </cc:Work>\r\n  </rdf:RDF>\r\n </metadata>\r\n <defs>\r\n  <style type=\"text/css\">*{stroke-linecap:butt;stroke-linejoin:round;}</style>\r\n </defs>\r\n <g id=\"figure_1\">\r\n  <g id=\"patch_1\">\r\n   <path d=\"M 0 248.518125 \r\nL 386.845312 248.518125 \r\nL 386.845312 0 \r\nL 0 0 \r\nz\r\n\" style=\"fill:none;\"/>\r\n  </g>\r\n  <g id=\"axes_1\">\r\n   <g id=\"patch_2\">\r\n    <path d=\"M 44.845313 224.64 \r\nL 379.645313 224.64 \r\nL 379.645313 7.2 \r\nL 44.845313 7.2 \r\nz\r\n\" style=\"fill:#ffffff;\"/>\r\n   </g>\r\n   <g id=\"matplotlib.axis_1\">\r\n    <g id=\"xtick_1\">\r\n     <g id=\"line2d_1\">\r\n      <defs>\r\n       <path d=\"M 0 0 \r\nL 0 3.5 \r\n\" id=\"mbfbf9bde49\" style=\"stroke:#000000;stroke-width:0.8;\"/>\r\n      </defs>\r\n      <g>\r\n       <use style=\"stroke:#000000;stroke-width:0.8;\" x=\"59.379531\" xlink:href=\"#mbfbf9bde49\" y=\"224.64\"/>\r\n      </g>\r\n     </g>\r\n     <g id=\"text_1\">\r\n      <!-- 0 -->\r\n      <g transform=\"translate(56.198281 239.238437)scale(0.1 -0.1)\">\r\n       <defs>\r\n        <path d=\"M 31.78125 66.40625 \r\nQ 24.171875 66.40625 20.328125 58.90625 \r\nQ 16.5 51.421875 16.5 36.375 \r\nQ 16.5 21.390625 20.328125 13.890625 \r\nQ 24.171875 6.390625 31.78125 6.390625 \r\nQ 39.453125 6.390625 43.28125 13.890625 \r\nQ 47.125 21.390625 47.125 36.375 \r\nQ 47.125 51.421875 43.28125 58.90625 \r\nQ 39.453125 66.40625 31.78125 66.40625 \r\nz\r\nM 31.78125 74.21875 \r\nQ 44.046875 74.21875 50.515625 64.515625 \r\nQ 56.984375 54.828125 56.984375 36.375 \r\nQ 56.984375 17.96875 50.515625 8.265625 \r\nQ 44.046875 -1.421875 31.78125 -1.421875 \r\nQ 19.53125 -1.421875 13.0625 8.265625 \r\nQ 6.59375 17.96875 6.59375 36.375 \r\nQ 6.59375 54.828125 13.0625 64.515625 \r\nQ 19.53125 74.21875 31.78125 74.21875 \r\nz\r\n\" id=\"DejaVuSans-48\"/>\r\n       </defs>\r\n       <use xlink:href=\"#DejaVuSans-48\"/>\r\n      </g>\r\n     </g>\r\n    </g>\r\n    <g id=\"xtick_2\">\r\n     <g id=\"line2d_2\">\r\n      <g>\r\n       <use style=\"stroke:#000000;stroke-width:0.8;\" x=\"127.775854\" xlink:href=\"#mbfbf9bde49\" y=\"224.64\"/>\r\n      </g>\r\n     </g>\r\n     <g id=\"text_2\">\r\n      <!-- 100 -->\r\n      <g transform=\"translate(118.232104 239.238437)scale(0.1 -0.1)\">\r\n       <defs>\r\n        <path d=\"M 12.40625 8.296875 \r\nL 28.515625 8.296875 \r\nL 28.515625 63.921875 \r\nL 10.984375 60.40625 \r\nL 10.984375 69.390625 \r\nL 28.421875 72.90625 \r\nL 38.28125 72.90625 \r\nL 38.28125 8.296875 \r\nL 54.390625 8.296875 \r\nL 54.390625 0 \r\nL 12.40625 0 \r\nz\r\n\" id=\"DejaVuSans-49\"/>\r\n       </defs>\r\n       <use xlink:href=\"#DejaVuSans-49\"/>\r\n       <use x=\"63.623047\" xlink:href=\"#DejaVuSans-48\"/>\r\n       <use x=\"127.246094\" xlink:href=\"#DejaVuSans-48\"/>\r\n      </g>\r\n     </g>\r\n    </g>\r\n    <g id=\"xtick_3\">\r\n     <g id=\"line2d_3\">\r\n      <g>\r\n       <use style=\"stroke:#000000;stroke-width:0.8;\" x=\"196.172177\" xlink:href=\"#mbfbf9bde49\" y=\"224.64\"/>\r\n      </g>\r\n     </g>\r\n     <g id=\"text_3\">\r\n      <!-- 200 -->\r\n      <g transform=\"translate(186.628427 239.238437)scale(0.1 -0.1)\">\r\n       <defs>\r\n        <path d=\"M 19.1875 8.296875 \r\nL 53.609375 8.296875 \r\nL 53.609375 0 \r\nL 7.328125 0 \r\nL 7.328125 8.296875 \r\nQ 12.9375 14.109375 22.625 23.890625 \r\nQ 32.328125 33.6875 34.8125 36.53125 \r\nQ 39.546875 41.84375 41.421875 45.53125 \r\nQ 43.3125 49.21875 43.3125 52.78125 \r\nQ 43.3125 58.59375 39.234375 62.25 \r\nQ 35.15625 65.921875 28.609375 65.921875 \r\nQ 23.96875 65.921875 18.8125 64.3125 \r\nQ 13.671875 62.703125 7.8125 59.421875 \r\nL 7.8125 69.390625 \r\nQ 13.765625 71.78125 18.9375 73 \r\nQ 24.125 74.21875 28.421875 74.21875 \r\nQ 39.75 74.21875 46.484375 68.546875 \r\nQ 53.21875 62.890625 53.21875 53.421875 \r\nQ 53.21875 48.921875 51.53125 44.890625 \r\nQ 49.859375 40.875 45.40625 35.40625 \r\nQ 44.1875 33.984375 37.640625 27.21875 \r\nQ 31.109375 20.453125 19.1875 8.296875 \r\nz\r\n\" id=\"DejaVuSans-50\"/>\r\n       </defs>\r\n       <use xlink:href=\"#DejaVuSans-50\"/>\r\n       <use x=\"63.623047\" xlink:href=\"#DejaVuSans-48\"/>\r\n       <use x=\"127.246094\" xlink:href=\"#DejaVuSans-48\"/>\r\n      </g>\r\n     </g>\r\n    </g>\r\n    <g id=\"xtick_4\">\r\n     <g id=\"line2d_4\">\r\n      <g>\r\n       <use style=\"stroke:#000000;stroke-width:0.8;\" x=\"264.568499\" xlink:href=\"#mbfbf9bde49\" y=\"224.64\"/>\r\n      </g>\r\n     </g>\r\n     <g id=\"text_4\">\r\n      <!-- 300 -->\r\n      <g transform=\"translate(255.024749 239.238437)scale(0.1 -0.1)\">\r\n       <defs>\r\n        <path d=\"M 40.578125 39.3125 \r\nQ 47.65625 37.796875 51.625 33 \r\nQ 55.609375 28.21875 55.609375 21.1875 \r\nQ 55.609375 10.40625 48.1875 4.484375 \r\nQ 40.765625 -1.421875 27.09375 -1.421875 \r\nQ 22.515625 -1.421875 17.65625 -0.515625 \r\nQ 12.796875 0.390625 7.625 2.203125 \r\nL 7.625 11.71875 \r\nQ 11.71875 9.328125 16.59375 8.109375 \r\nQ 21.484375 6.890625 26.8125 6.890625 \r\nQ 36.078125 6.890625 40.9375 10.546875 \r\nQ 45.796875 14.203125 45.796875 21.1875 \r\nQ 45.796875 27.640625 41.28125 31.265625 \r\nQ 36.765625 34.90625 28.71875 34.90625 \r\nL 20.21875 34.90625 \r\nL 20.21875 43.015625 \r\nL 29.109375 43.015625 \r\nQ 36.375 43.015625 40.234375 45.921875 \r\nQ 44.09375 48.828125 44.09375 54.296875 \r\nQ 44.09375 59.90625 40.109375 62.90625 \r\nQ 36.140625 65.921875 28.71875 65.921875 \r\nQ 24.65625 65.921875 20.015625 65.03125 \r\nQ 15.375 64.15625 9.8125 62.3125 \r\nL 9.8125 71.09375 \r\nQ 15.4375 72.65625 20.34375 73.4375 \r\nQ 25.25 74.21875 29.59375 74.21875 \r\nQ 40.828125 74.21875 47.359375 69.109375 \r\nQ 53.90625 64.015625 53.90625 55.328125 \r\nQ 53.90625 49.265625 50.4375 45.09375 \r\nQ 46.96875 40.921875 40.578125 39.3125 \r\nz\r\n\" id=\"DejaVuSans-51\"/>\r\n       </defs>\r\n       <use xlink:href=\"#DejaVuSans-51\"/>\r\n       <use x=\"63.623047\" xlink:href=\"#DejaVuSans-48\"/>\r\n       <use x=\"127.246094\" xlink:href=\"#DejaVuSans-48\"/>\r\n      </g>\r\n     </g>\r\n    </g>\r\n    <g id=\"xtick_5\">\r\n     <g id=\"line2d_5\">\r\n      <g>\r\n       <use style=\"stroke:#000000;stroke-width:0.8;\" x=\"332.964822\" xlink:href=\"#mbfbf9bde49\" y=\"224.64\"/>\r\n      </g>\r\n     </g>\r\n     <g id=\"text_5\">\r\n      <!-- 400 -->\r\n      <g transform=\"translate(323.421072 239.238437)scale(0.1 -0.1)\">\r\n       <defs>\r\n        <path d=\"M 37.796875 64.3125 \r\nL 12.890625 25.390625 \r\nL 37.796875 25.390625 \r\nz\r\nM 35.203125 72.90625 \r\nL 47.609375 72.90625 \r\nL 47.609375 25.390625 \r\nL 58.015625 25.390625 \r\nL 58.015625 17.1875 \r\nL 47.609375 17.1875 \r\nL 47.609375 0 \r\nL 37.796875 0 \r\nL 37.796875 17.1875 \r\nL 4.890625 17.1875 \r\nL 4.890625 26.703125 \r\nz\r\n\" id=\"DejaVuSans-52\"/>\r\n       </defs>\r\n       <use xlink:href=\"#DejaVuSans-52\"/>\r\n       <use x=\"63.623047\" xlink:href=\"#DejaVuSans-48\"/>\r\n       <use x=\"127.246094\" xlink:href=\"#DejaVuSans-48\"/>\r\n      </g>\r\n     </g>\r\n    </g>\r\n   </g>\r\n   <g id=\"matplotlib.axis_2\">\r\n    <g id=\"ytick_1\">\r\n     <g id=\"line2d_6\">\r\n      <defs>\r\n       <path d=\"M 0 0 \r\nL -3.5 0 \r\n\" id=\"m7d452bf917\" style=\"stroke:#000000;stroke-width:0.8;\"/>\r\n      </defs>\r\n      <g>\r\n       <use style=\"stroke:#000000;stroke-width:0.8;\" x=\"44.845313\" xlink:href=\"#m7d452bf917\" y=\"214.805733\"/>\r\n      </g>\r\n     </g>\r\n     <g id=\"text_6\">\r\n      <!-- −1.00 -->\r\n      <g transform=\"translate(7.2 218.604952)scale(0.1 -0.1)\">\r\n       <defs>\r\n        <path d=\"M 10.59375 35.5 \r\nL 73.1875 35.5 \r\nL 73.1875 27.203125 \r\nL 10.59375 27.203125 \r\nz\r\n\" id=\"DejaVuSans-8722\"/>\r\n        <path d=\"M 10.6875 12.40625 \r\nL 21 12.40625 \r\nL 21 0 \r\nL 10.6875 0 \r\nz\r\n\" id=\"DejaVuSans-46\"/>\r\n       </defs>\r\n       <use xlink:href=\"#DejaVuSans-8722\"/>\r\n       <use x=\"83.789062\" xlink:href=\"#DejaVuSans-49\"/>\r\n       <use x=\"147.412109\" xlink:href=\"#DejaVuSans-46\"/>\r\n       <use x=\"179.199219\" xlink:href=\"#DejaVuSans-48\"/>\r\n       <use x=\"242.822266\" xlink:href=\"#DejaVuSans-48\"/>\r\n      </g>\r\n     </g>\r\n    </g>\r\n    <g id=\"ytick_2\">\r\n     <g id=\"line2d_7\">\r\n      <g>\r\n       <use style=\"stroke:#000000;stroke-width:0.8;\" x=\"44.845313\" xlink:href=\"#m7d452bf917\" y=\"190.002248\"/>\r\n      </g>\r\n     </g>\r\n     <g id=\"text_7\">\r\n      <!-- −0.75 -->\r\n      <g transform=\"translate(7.2 193.801467)scale(0.1 -0.1)\">\r\n       <defs>\r\n        <path d=\"M 8.203125 72.90625 \r\nL 55.078125 72.90625 \r\nL 55.078125 68.703125 \r\nL 28.609375 0 \r\nL 18.3125 0 \r\nL 43.21875 64.59375 \r\nL 8.203125 64.59375 \r\nz\r\n\" id=\"DejaVuSans-55\"/>\r\n        <path d=\"M 10.796875 72.90625 \r\nL 49.515625 72.90625 \r\nL 49.515625 64.59375 \r\nL 19.828125 64.59375 \r\nL 19.828125 46.734375 \r\nQ 21.96875 47.46875 24.109375 47.828125 \r\nQ 26.265625 48.1875 28.421875 48.1875 \r\nQ 40.625 48.1875 47.75 41.5 \r\nQ 54.890625 34.8125 54.890625 23.390625 \r\nQ 54.890625 11.625 47.5625 5.09375 \r\nQ 40.234375 -1.421875 26.90625 -1.421875 \r\nQ 22.3125 -1.421875 17.546875 -0.640625 \r\nQ 12.796875 0.140625 7.71875 1.703125 \r\nL 7.71875 11.625 \r\nQ 12.109375 9.234375 16.796875 8.0625 \r\nQ 21.484375 6.890625 26.703125 6.890625 \r\nQ 35.15625 6.890625 40.078125 11.328125 \r\nQ 45.015625 15.765625 45.015625 23.390625 \r\nQ 45.015625 31 40.078125 35.4375 \r\nQ 35.15625 39.890625 26.703125 39.890625 \r\nQ 22.75 39.890625 18.8125 39.015625 \r\nQ 14.890625 38.140625 10.796875 36.28125 \r\nz\r\n\" id=\"DejaVuSans-53\"/>\r\n       </defs>\r\n       <use xlink:href=\"#DejaVuSans-8722\"/>\r\n       <use x=\"83.789062\" xlink:href=\"#DejaVuSans-48\"/>\r\n       <use x=\"147.412109\" xlink:href=\"#DejaVuSans-46\"/>\r\n       <use x=\"179.199219\" xlink:href=\"#DejaVuSans-55\"/>\r\n       <use x=\"242.822266\" xlink:href=\"#DejaVuSans-53\"/>\r\n      </g>\r\n     </g>\r\n    </g>\r\n    <g id=\"ytick_3\">\r\n     <g id=\"line2d_8\">\r\n      <g>\r\n       <use style=\"stroke:#000000;stroke-width:0.8;\" x=\"44.845313\" xlink:href=\"#m7d452bf917\" y=\"165.198763\"/>\r\n      </g>\r\n     </g>\r\n     <g id=\"text_8\">\r\n      <!-- −0.50 -->\r\n      <g transform=\"translate(7.2 168.997982)scale(0.1 -0.1)\">\r\n       <use xlink:href=\"#DejaVuSans-8722\"/>\r\n       <use x=\"83.789062\" xlink:href=\"#DejaVuSans-48\"/>\r\n       <use x=\"147.412109\" xlink:href=\"#DejaVuSans-46\"/>\r\n       <use x=\"179.199219\" xlink:href=\"#DejaVuSans-53\"/>\r\n       <use x=\"242.822266\" xlink:href=\"#DejaVuSans-48\"/>\r\n      </g>\r\n     </g>\r\n    </g>\r\n    <g id=\"ytick_4\">\r\n     <g id=\"line2d_9\">\r\n      <g>\r\n       <use style=\"stroke:#000000;stroke-width:0.8;\" x=\"44.845313\" xlink:href=\"#m7d452bf917\" y=\"140.395278\"/>\r\n      </g>\r\n     </g>\r\n     <g id=\"text_9\">\r\n      <!-- −0.25 -->\r\n      <g transform=\"translate(7.2 144.194497)scale(0.1 -0.1)\">\r\n       <use xlink:href=\"#DejaVuSans-8722\"/>\r\n       <use x=\"83.789062\" xlink:href=\"#DejaVuSans-48\"/>\r\n       <use x=\"147.412109\" xlink:href=\"#DejaVuSans-46\"/>\r\n       <use x=\"179.199219\" xlink:href=\"#DejaVuSans-50\"/>\r\n       <use x=\"242.822266\" xlink:href=\"#DejaVuSans-53\"/>\r\n      </g>\r\n     </g>\r\n    </g>\r\n    <g id=\"ytick_5\">\r\n     <g id=\"line2d_10\">\r\n      <g>\r\n       <use style=\"stroke:#000000;stroke-width:0.8;\" x=\"44.845313\" xlink:href=\"#m7d452bf917\" y=\"115.591793\"/>\r\n      </g>\r\n     </g>\r\n     <g id=\"text_10\">\r\n      <!-- 0.00 -->\r\n      <g transform=\"translate(15.579688 119.391011)scale(0.1 -0.1)\">\r\n       <use xlink:href=\"#DejaVuSans-48\"/>\r\n       <use x=\"63.623047\" xlink:href=\"#DejaVuSans-46\"/>\r\n       <use x=\"95.410156\" xlink:href=\"#DejaVuSans-48\"/>\r\n       <use x=\"159.033203\" xlink:href=\"#DejaVuSans-48\"/>\r\n      </g>\r\n     </g>\r\n    </g>\r\n    <g id=\"ytick_6\">\r\n     <g id=\"line2d_11\">\r\n      <g>\r\n       <use style=\"stroke:#000000;stroke-width:0.8;\" x=\"44.845313\" xlink:href=\"#m7d452bf917\" y=\"90.788308\"/>\r\n      </g>\r\n     </g>\r\n     <g id=\"text_11\">\r\n      <!-- 0.25 -->\r\n      <g transform=\"translate(15.579688 94.587526)scale(0.1 -0.1)\">\r\n       <use xlink:href=\"#DejaVuSans-48\"/>\r\n       <use x=\"63.623047\" xlink:href=\"#DejaVuSans-46\"/>\r\n       <use x=\"95.410156\" xlink:href=\"#DejaVuSans-50\"/>\r\n       <use x=\"159.033203\" xlink:href=\"#DejaVuSans-53\"/>\r\n      </g>\r\n     </g>\r\n    </g>\r\n    <g id=\"ytick_7\">\r\n     <g id=\"line2d_12\">\r\n      <g>\r\n       <use style=\"stroke:#000000;stroke-width:0.8;\" x=\"44.845313\" xlink:href=\"#m7d452bf917\" y=\"65.984822\"/>\r\n      </g>\r\n     </g>\r\n     <g id=\"text_12\">\r\n      <!-- 0.50 -->\r\n      <g transform=\"translate(15.579688 69.784041)scale(0.1 -0.1)\">\r\n       <use xlink:href=\"#DejaVuSans-48\"/>\r\n       <use x=\"63.623047\" xlink:href=\"#DejaVuSans-46\"/>\r\n       <use x=\"95.410156\" xlink:href=\"#DejaVuSans-53\"/>\r\n       <use x=\"159.033203\" xlink:href=\"#DejaVuSans-48\"/>\r\n      </g>\r\n     </g>\r\n    </g>\r\n    <g id=\"ytick_8\">\r\n     <g id=\"line2d_13\">\r\n      <g>\r\n       <use style=\"stroke:#000000;stroke-width:0.8;\" x=\"44.845313\" xlink:href=\"#m7d452bf917\" y=\"41.181337\"/>\r\n      </g>\r\n     </g>\r\n     <g id=\"text_13\">\r\n      <!-- 0.75 -->\r\n      <g transform=\"translate(15.579688 44.980556)scale(0.1 -0.1)\">\r\n       <use xlink:href=\"#DejaVuSans-48\"/>\r\n       <use x=\"63.623047\" xlink:href=\"#DejaVuSans-46\"/>\r\n       <use x=\"95.410156\" xlink:href=\"#DejaVuSans-55\"/>\r\n       <use x=\"159.033203\" xlink:href=\"#DejaVuSans-53\"/>\r\n      </g>\r\n     </g>\r\n    </g>\r\n    <g id=\"ytick_9\">\r\n     <g id=\"line2d_14\">\r\n      <g>\r\n       <use style=\"stroke:#000000;stroke-width:0.8;\" x=\"44.845313\" xlink:href=\"#m7d452bf917\" y=\"16.377852\"/>\r\n      </g>\r\n     </g>\r\n     <g id=\"text_14\">\r\n      <!-- 1.00 -->\r\n      <g transform=\"translate(15.579688 20.177071)scale(0.1 -0.1)\">\r\n       <use xlink:href=\"#DejaVuSans-49\"/>\r\n       <use x=\"63.623047\" xlink:href=\"#DejaVuSans-46\"/>\r\n       <use x=\"95.410156\" xlink:href=\"#DejaVuSans-48\"/>\r\n       <use x=\"159.033203\" xlink:href=\"#DejaVuSans-48\"/>\r\n      </g>\r\n     </g>\r\n    </g>\r\n   </g>\r\n   <g id=\"line2d_15\">\r\n    <path clip-path=\"url(#p29f6a00eb7)\" d=\"M 60.063494 214.756364 \r\nL 60.747458 139.883302 \r\nL 61.431421 115.930556 \r\nL 62.115384 118.197765 \r\nL 62.799347 115.760616 \r\nL 63.48331 120.948271 \r\nL 64.167274 119.095053 \r\nL 64.851237 118.078827 \r\nL 65.5352 116.725628 \r\nL 66.219163 117.022197 \r\nL 66.903127 116.748194 \r\nL 67.58709 118.009755 \r\nL 68.271053 119.678425 \r\nL 68.955016 73.179207 \r\nL 69.63898 115.970373 \r\nL 70.322943 119.453942 \r\nL 71.006906 115.66753 \r\nL 71.690869 118.093739 \r\nL 72.374832 115.739615 \r\nL 73.058796 54.187545 \r\nL 73.742759 115.609318 \r\nL 74.426722 120.429669 \r\nL 75.110685 115.879364 \r\nL 75.794649 117.502372 \r\nL 76.478612 143.094219 \r\nL 77.162575 115.924462 \r\nL 77.846538 116.716937 \r\nL 78.530501 115.611199 \r\nL 79.898428 115.651008 \r\nL 80.582391 116.595579 \r\nL 81.266354 117.940421 \r\nL 81.950318 116.534035 \r\nL 82.634281 125.948081 \r\nL 83.318244 60.900298 \r\nL 84.002207 123.684015 \r\nL 84.686171 158.847748 \r\nL 85.370134 116.603034 \r\nL 86.054097 115.978275 \r\nL 86.73806 115.691577 \r\nL 87.422023 121.648994 \r\nL 88.105987 117.999489 \r\nL 88.78995 115.608404 \r\nL 89.473913 116.298994 \r\nL 90.157876 115.625337 \r\nL 90.84184 113.09296 \r\nL 91.525803 118.770177 \r\nL 92.209766 119.636633 \r\nL 92.893729 116.371797 \r\nL 93.577692 115.678807 \r\nL 94.261656 119.46495 \r\nL 94.945619 116.383586 \r\nL 95.629582 115.671504 \r\nL 96.313545 115.886377 \r\nL 96.997509 69.4789 \r\nL 97.681472 120.294248 \r\nL 98.365435 115.800316 \r\nL 99.049398 116.380809 \r\nL 99.733362 113.143323 \r\nL 100.417325 115.793241 \r\nL 101.101288 116.392356 \r\nL 101.785251 117.21262 \r\nL 102.469214 116.044308 \r\nL 103.153178 115.460611 \r\nL 103.837141 115.730549 \r\nL 104.521104 115.598635 \r\nL 105.205067 117.520513 \r\nL 105.889031 124.82333 \r\nL 106.572994 111.922993 \r\nL 107.256957 125.94391 \r\nL 107.94092 115.780448 \r\nL 108.624883 116.487924 \r\nL 109.308847 115.941993 \r\nL 109.99281 115.644937 \r\nL 110.676773 144.576437 \r\nL 111.360736 82.771443 \r\nL 112.0447 115.59198 \r\nL 112.728663 115.960581 \r\nL 113.412626 115.617976 \r\nL 114.096589 17.083636 \r\nL 114.780553 116.762848 \r\nL 115.464516 115.677708 \r\nL 116.148479 115.658491 \r\nL 116.832442 116.07543 \r\nL 117.516405 116.274809 \r\nL 118.200369 115.647244 \r\nL 118.884332 115.766284 \r\nL 119.568295 138.441516 \r\nL 120.252258 135.986929 \r\nL 120.936222 130.671312 \r\nL 121.620185 108.055691 \r\nL 122.304148 115.520873 \r\nL 122.988111 115.131982 \r\nL 123.672075 115.639465 \r\nL 124.356038 115.59485 \r\nL 125.040001 63.025469 \r\nL 125.723964 138.609043 \r\nL 126.407927 115.598571 \r\nL 127.091891 116.09358 \r\nL 127.775854 116.884441 \r\nL 128.459817 115.626357 \r\nL 129.14378 118.885656 \r\nL 129.827744 116.167363 \r\nL 130.511707 116.641742 \r\nL 131.19567 115.603118 \r\nL 132.563596 115.733042 \r\nL 133.24756 116.042671 \r\nL 133.931523 115.609708 \r\nL 134.615486 116.044974 \r\nL 135.299449 115.69084 \r\nL 135.983413 117.602501 \r\nL 136.667376 115.767459 \r\nL 137.351339 116.517803 \r\nL 138.035302 108.050099 \r\nL 138.719266 115.647558 \r\nL 139.403229 117.398941 \r\nL 140.087192 115.670924 \r\nL 140.771155 115.649744 \r\nL 141.455118 115.868353 \r\nL 142.823045 115.863654 \r\nL 143.507008 115.470427 \r\nL 144.190971 115.74855 \r\nL 144.874935 115.593818 \r\nL 145.558898 127.978558 \r\nL 146.242861 115.811019 \r\nL 146.926824 115.657402 \r\nL 147.610787 116.209963 \r\nL 148.294751 114.436841 \r\nL 148.978714 116.111475 \r\nL 149.662677 116.034665 \r\nL 150.34664 115.647226 \r\nL 151.030604 114.996639 \r\nL 151.714567 119.347963 \r\nL 152.39853 116.693228 \r\nL 153.082493 109.326777 \r\nL 153.766457 116.322464 \r\nL 154.45042 116.044762 \r\nL 155.134383 135.850052 \r\nL 155.818346 117.563855 \r\nL 156.502309 115.994419 \r\nL 157.186273 115.626501 \r\nL 157.870236 115.846362 \r\nL 158.554199 115.789885 \r\nL 159.238162 115.610765 \r\nL 159.922126 115.599998 \r\nL 160.606089 127.881965 \r\nL 161.290052 115.825665 \r\nL 161.974015 115.622419 \r\nL 162.657978 116.387913 \r\nL 163.341942 170.784779 \r\nL 164.025905 116.172447 \r\nL 164.709868 115.626946 \r\nL 165.393831 116.256335 \r\nL 166.077795 115.792767 \r\nL 166.761758 115.993251 \r\nL 167.445721 121.735909 \r\nL 168.129684 85.896835 \r\nL 168.813648 115.694457 \r\nL 169.497611 115.83124 \r\nL 171.5495 115.545263 \r\nL 172.233464 117.273334 \r\nL 172.917427 116.768313 \r\nL 173.60139 115.586497 \r\nL 174.285353 116.162544 \r\nL 174.969317 123.771733 \r\nL 175.65328 115.906041 \r\nL 176.337243 121.777063 \r\nL 177.021206 115.927916 \r\nL 177.705169 115.682186 \r\nL 178.389133 114.780821 \r\nL 179.073096 116.022437 \r\nL 179.757059 28.262518 \r\nL 180.441022 115.672393 \r\nL 181.124986 115.622378 \r\nL 181.808949 115.885533 \r\nL 182.492912 118.822289 \r\nL 183.176875 115.641662 \r\nL 183.860839 115.735101 \r\nL 184.544802 146.99154 \r\nL 185.228765 116.796499 \r\nL 185.912728 115.433318 \r\nL 186.596691 21.419311 \r\nL 187.280655 116.590539 \r\nL 187.964618 115.781373 \r\nL 188.648581 91.623425 \r\nL 189.332544 114.240621 \r\nL 190.016508 116.117081 \r\nL 190.700471 115.481361 \r\nL 191.384434 116.456317 \r\nL 192.068397 115.97785 \r\nL 193.436324 115.594746 \r\nL 194.120287 130.002928 \r\nL 194.80425 124.125043 \r\nL 195.488213 196.988668 \r\nL 196.172177 116.333414 \r\nL 196.85614 115.076834 \r\nL 197.540103 119.119419 \r\nL 198.224066 115.598879 \r\nL 198.90803 116.867447 \r\nL 199.591993 117.254886 \r\nL 200.275956 115.714646 \r\nL 202.327846 115.621751 \r\nL 203.011809 119.160436 \r\nL 203.695772 117.140208 \r\nL 204.379735 117.040167 \r\nL 205.063699 115.56809 \r\nL 205.747662 120.545763 \r\nL 206.431625 115.995084 \r\nL 207.115588 115.562443 \r\nL 207.799552 116.318176 \r\nL 208.483515 107.242427 \r\nL 209.167478 115.592432 \r\nL 209.851441 116.470993 \r\nL 210.535404 117.774119 \r\nL 211.219368 118.012098 \r\nL 211.903331 116.432665 \r\nL 212.587294 116.733335 \r\nL 213.271257 115.641461 \r\nL 213.955221 115.911501 \r\nL 214.639184 117.265125 \r\nL 215.323147 115.660929 \r\nL 216.691073 115.610702 \r\nL 217.375037 117.272935 \r\nL 218.059 115.645996 \r\nL 218.742963 118.621655 \r\nL 219.426926 115.858078 \r\nL 220.794853 115.662888 \r\nL 221.478816 116.325541 \r\nL 222.162779 115.734714 \r\nL 222.846743 115.651204 \r\nL 223.530706 117.929593 \r\nL 224.214669 115.596091 \r\nL 224.898632 117.974973 \r\nL 225.582595 119.019056 \r\nL 226.266559 115.441859 \r\nL 226.950522 115.887643 \r\nL 227.634485 115.595769 \r\nL 228.318448 117.139606 \r\nL 229.002412 116.048839 \r\nL 229.686375 115.591736 \r\nL 230.370338 116.400846 \r\nL 231.054301 115.828532 \r\nL 231.738264 115.590715 \r\nL 233.790154 115.647103 \r\nL 234.474117 107.56208 \r\nL 235.158081 115.695343 \r\nL 235.842044 115.784774 \r\nL 236.526007 116.473774 \r\nL 237.20997 116.088733 \r\nL 237.893934 126.483732 \r\nL 238.577897 116.218035 \r\nL 239.26186 115.699404 \r\nL 239.945823 114.006786 \r\nL 240.629786 115.698783 \r\nL 241.997713 115.59723 \r\nL 242.681676 131.788368 \r\nL 243.365639 117.090929 \r\nL 244.049603 116.206962 \r\nL 244.733566 90.372955 \r\nL 245.417529 115.94107 \r\nL 246.101492 115.590625 \r\nL 246.785456 115.60262 \r\nL 247.469419 113.88588 \r\nL 248.153382 116.362005 \r\nL 248.837345 115.623747 \r\nL 249.521308 115.703336 \r\nL 250.205272 111.761973 \r\nL 250.889235 115.650914 \r\nL 251.573198 115.66137 \r\nL 252.257161 116.205136 \r\nL 252.941125 116.008704 \r\nL 253.625088 115.614338 \r\nL 254.309051 116.463548 \r\nL 254.993014 115.915229 \r\nL 255.676977 115.207603 \r\nL 256.360941 115.67303 \r\nL 257.044904 115.784794 \r\nL 257.728867 115.622527 \r\nL 258.41283 115.842695 \r\nL 259.096794 116.227094 \r\nL 259.780757 116.154837 \r\nL 260.46472 80.613074 \r\nL 261.148683 115.593739 \r\nL 261.832647 119.643312 \r\nL 262.51661 127.650172 \r\nL 263.200573 115.360646 \r\nL 263.884536 115.594682 \r\nL 264.568499 117.88615 \r\nL 265.252463 116.35709 \r\nL 265.936426 116.008129 \r\nL 266.620389 121.868898 \r\nL 267.304352 91.713795 \r\nL 267.988316 116.211237 \r\nL 268.672279 115.601977 \r\nL 270.040205 115.97047 \r\nL 270.724168 127.865871 \r\nL 271.408132 130.825968 \r\nL 272.092095 116.630321 \r\nL 272.776058 112.248523 \r\nL 273.460021 118.26235 \r\nL 274.143985 115.570342 \r\nL 276.879838 115.634565 \r\nL 277.563801 116.667895 \r\nL 278.247764 119.518916 \r\nL 278.931727 115.694264 \r\nL 280.299654 115.57836 \r\nL 280.983617 115.78516 \r\nL 282.351543 115.627204 \r\nL 283.035507 121.681509 \r\nL 283.71947 116.152419 \r\nL 284.403433 115.730917 \r\nL 285.087396 115.625935 \r\nL 285.771359 115.668662 \r\nL 286.455323 129.179004 \r\nL 287.139286 115.61061 \r\nL 287.823249 116.633864 \r\nL 288.507212 115.871897 \r\nL 289.191176 116.252724 \r\nL 289.875139 115.709417 \r\nL 290.559102 117.05807 \r\nL 291.243065 115.640267 \r\nL 291.927029 117.176502 \r\nL 292.610992 115.770305 \r\nL 293.294955 118.477703 \r\nL 293.978918 116.201837 \r\nL 294.662881 115.628569 \r\nL 295.346845 116.575949 \r\nL 296.030808 128.853044 \r\nL 296.714771 116.099329 \r\nL 297.398734 116.125304 \r\nL 298.082698 115.622583 \r\nL 298.766661 115.819975 \r\nL 299.450624 115.594864 \r\nL 300.134587 115.603213 \r\nL 300.81855 115.888009 \r\nL 301.502514 115.661251 \r\nL 302.87044 115.883391 \r\nL 303.554403 116.32676 \r\nL 304.238367 115.617559 \r\nL 304.92233 115.673177 \r\nL 305.606293 116.226076 \r\nL 306.290256 115.708521 \r\nL 306.97422 115.882999 \r\nL 307.658183 119.321429 \r\nL 308.342146 115.649918 \r\nL 309.026109 119.461858 \r\nL 309.710072 115.816589 \r\nL 310.394036 115.657765 \r\nL 311.077999 116.208891 \r\nL 312.445925 115.638927 \r\nL 313.129889 115.593847 \r\nL 313.813852 116.295222 \r\nL 314.497815 115.595884 \r\nL 315.865742 115.596521 \r\nL 316.549705 116.096749 \r\nL 317.233668 115.574824 \r\nL 317.917631 115.620291 \r\nL 318.601594 116.102659 \r\nL 319.285558 115.598201 \r\nL 319.969521 115.730613 \r\nL 320.653484 115.645329 \r\nL 321.337447 115.928556 \r\nL 322.021411 115.862831 \r\nL 322.705374 115.663528 \r\nL 323.389337 123.35479 \r\nL 324.0733 115.799946 \r\nL 324.757263 120.918372 \r\nL 325.441227 115.597015 \r\nL 326.12519 115.735532 \r\nL 326.809153 115.627671 \r\nL 327.493116 99.905079 \r\nL 328.17708 115.809039 \r\nL 328.861043 110.957485 \r\nL 329.545006 115.994031 \r\nL 330.228969 115.721588 \r\nL 330.912933 115.594932 \r\nL 331.596896 116.282112 \r\nL 332.280859 115.574145 \r\nL 334.332749 115.673602 \r\nL 335.016712 118.15149 \r\nL 335.700675 115.723204 \r\nL 336.384638 119.430625 \r\nL 337.068602 116.482638 \r\nL 337.752565 116.394006 \r\nL 338.436528 115.666802 \r\nL 339.120491 116.684228 \r\nL 339.804454 126.105273 \r\nL 340.488418 115.597333 \r\nL 341.172381 111.816442 \r\nL 341.856344 115.23725 \r\nL 342.540307 115.895598 \r\nL 343.908234 115.904668 \r\nL 344.592197 115.595191 \r\nL 345.27616 115.969729 \r\nL 345.960124 115.557506 \r\nL 346.644087 115.632795 \r\nL 347.32805 116.257791 \r\nL 348.012013 115.656929 \r\nL 348.695976 105.966848 \r\nL 349.37994 115.844088 \r\nL 350.063903 116.537496 \r\nL 350.747866 115.758612 \r\nL 351.431829 116.047606 \r\nL 352.115793 115.588602 \r\nL 353.483719 115.827745 \r\nL 354.851645 117.404872 \r\nL 355.535609 115.98547 \r\nL 356.219572 115.877129 \r\nL 356.903535 117.481563 \r\nL 357.587498 118.618891 \r\nL 358.271462 115.600489 \r\nL 359.639388 115.625221 \r\nL 360.323351 100.189955 \r\nL 361.007315 115.697852 \r\nL 361.691278 115.571732 \r\nL 362.375241 132.930292 \r\nL 363.059204 115.894675 \r\nL 363.743167 115.803313 \r\nL 364.427131 115.572953 \r\nL 364.427131 115.572953 \r\n\" style=\"fill:none;stroke:#1f77b4;stroke-linecap:square;stroke-width:1.5;\"/>\r\n   </g>\r\n   <g id=\"patch_3\">\r\n    <path d=\"M 44.845313 224.64 \r\nL 44.845313 7.2 \r\n\" style=\"fill:none;stroke:#000000;stroke-linecap:square;stroke-linejoin:miter;stroke-width:0.8;\"/>\r\n   </g>\r\n   <g id=\"patch_4\">\r\n    <path d=\"M 379.645313 224.64 \r\nL 379.645313 7.2 \r\n\" style=\"fill:none;stroke:#000000;stroke-linecap:square;stroke-linejoin:miter;stroke-width:0.8;\"/>\r\n   </g>\r\n   <g id=\"patch_5\">\r\n    <path d=\"M 44.845313 224.64 \r\nL 379.645313 224.64 \r\n\" style=\"fill:none;stroke:#000000;stroke-linecap:square;stroke-linejoin:miter;stroke-width:0.8;\"/>\r\n   </g>\r\n   <g id=\"patch_6\">\r\n    <path d=\"M 44.845313 7.2 \r\nL 379.645313 7.2 \r\n\" style=\"fill:none;stroke:#000000;stroke-linecap:square;stroke-linejoin:miter;stroke-width:0.8;\"/>\r\n   </g>\r\n  </g>\r\n </g>\r\n <defs>\r\n  <clipPath id=\"p29f6a00eb7\">\r\n   <rect height=\"217.44\" width=\"334.8\" x=\"44.845313\" y=\"7.2\"/>\r\n  </clipPath>\r\n </defs>\r\n</svg>\r\n",
      "image/png": "[encoded data removed]"
     },
     "metadata": {
      "needs_background": "light"
     }
    }
   ],
   "source": [
    "train_dataframe = pd.read_csv('train_set.csv')\n",
    "nn = NeuralNetwork(len(unique_words), (len(unique_words)+1)//2, 1, 0.01)\n",
    "\n",
    "errors = nn.train(train_dataframe, 20)\n",
    "plt.plot(range(1, len(errors) + 1), errors)\n",
    "plt.show()"
   ]
  },
  {
   "source": [
    "Now we will test the neural network with the test set and finally display its acuaracy. presicion and recal"
   ],
   "cell_type": "markdown",
   "metadata": {}
  },
  {
   "cell_type": "code",
   "execution_count": 53,
   "metadata": {
    "tags": []
   },
   "outputs": [
    {
     "output_type": "stream",
     "name": "stdout",
     "text": [
      "0.9829443447037702\n0.9774436090225563\n0.8904109589041096\n[[965, 3], [16, 130]]\n"
     ]
    }
   ],
   "source": [
    "acuaracy = 0\n",
    "confusion_matrix = [[0 for i in range(2)] for i in range(2)]\n",
    "\n",
    "for index, row in test_set.iterrows():\n",
    "    #print(row['message'])\n",
    "    input_v = Data.get_inputs_count(row['message'],unique_words)\n",
    "    result = round(nn.feedforward(input_v)[0,0])\n",
    "\n",
    "    if row['label_tag'] == result:\n",
    "         acuaracy+=1\n",
    "    confusion_matrix[row['label_tag']][int(result)] +=1\n",
    "    #print(row['class'], result,'\\n')\n",
    "\n",
    "acuaracy /= len(test_set)\n",
    "presicion = confusion_matrix[1][1]/(confusion_matrix[1][1]+confusion_matrix[0][1])\n",
    "recal = confusion_matrix[1][1]/(confusion_matrix[1][1]+confusion_matrix[1][0])\n",
    "\n",
    "print(acuaracy)\n",
    "print(presicion)\n",
    "print(recal)\n",
    "print(confusion_matrix)"
   ]
  },
  {
   "cell_type": "code",
   "execution_count": 54,
   "metadata": {},
   "outputs": [
    {
     "output_type": "execute_result",
     "data": {
      "text/plain": [
       "       call      tell     claim     prize     enter    mobile  personal  \\\n",
       "0  0.439445  0.219722  0.219722  0.219722  0.000000  0.000000  0.000000   \n",
       "1  0.000000  0.000000  0.000000  0.000000  0.219722  0.219722  0.219722   \n",
       "2  0.000000  0.000000  0.000000  0.000000  0.000000  0.000000  0.000000   \n",
       "\n",
       "     detail    prompt   careful  \n",
       "0  0.000000  0.000000  0.000000  \n",
       "1  0.219722  0.219722  0.000000  \n",
       "2  0.000000  0.000000  1.098612  "
      ],
      "text/html": "<div>\n<style scoped>\n    .dataframe tbody tr th:only-of-type {\n        vertical-align: middle;\n    }\n\n    .dataframe tbody tr th {\n        vertical-align: top;\n    }\n\n    .dataframe thead th {\n        text-align: right;\n    }\n</style>\n<table border=\"1\" class=\"dataframe\">\n  <thead>\n    <tr style=\"text-align: right;\">\n      <th></th>\n      <th>call</th>\n      <th>tell</th>\n      <th>claim</th>\n      <th>prize</th>\n      <th>enter</th>\n      <th>mobile</th>\n      <th>personal</th>\n      <th>detail</th>\n      <th>prompt</th>\n      <th>careful</th>\n    </tr>\n  </thead>\n  <tbody>\n    <tr>\n      <th>0</th>\n      <td>0.439445</td>\n      <td>0.219722</td>\n      <td>0.219722</td>\n      <td>0.219722</td>\n      <td>0.000000</td>\n      <td>0.000000</td>\n      <td>0.000000</td>\n      <td>0.000000</td>\n      <td>0.000000</td>\n      <td>0.000000</td>\n    </tr>\n    <tr>\n      <th>1</th>\n      <td>0.000000</td>\n      <td>0.000000</td>\n      <td>0.000000</td>\n      <td>0.000000</td>\n      <td>0.219722</td>\n      <td>0.219722</td>\n      <td>0.219722</td>\n      <td>0.219722</td>\n      <td>0.219722</td>\n      <td>0.000000</td>\n    </tr>\n    <tr>\n      <th>2</th>\n      <td>0.000000</td>\n      <td>0.000000</td>\n      <td>0.000000</td>\n      <td>0.000000</td>\n      <td>0.000000</td>\n      <td>0.000000</td>\n      <td>0.000000</td>\n      <td>0.000000</td>\n      <td>0.000000</td>\n      <td>1.098612</td>\n    </tr>\n  </tbody>\n</table>\n</div>"
     },
     "metadata": {},
     "execution_count": 54
    }
   ],
   "source": [
    "tf_idf = Data.tf_idf(\"Call from 08702490080 - tells u 2 call 09066358152 to claim ?5000 prize. U have 2 enter all ur mobile & personal details @ the prompts. Careful!\")\n",
    "pd.DataFrame.from_dict(tf_idf)"
   ]
  },
  {
   "source": [
    "Finally we wil save the model in a pkl file"
   ],
   "cell_type": "markdown",
   "metadata": {}
  },
  {
   "cell_type": "code",
   "execution_count": 51,
   "metadata": {},
   "outputs": [],
   "source": [
    "with open('nn.pkl', 'wb') as output:\n",
    "    pickle.dump(nn, output)"
   ]
  },
  {
   "cell_type": "code",
   "execution_count": 52,
   "metadata": {},
   "outputs": [],
   "source": [
    "output = open('nn.pkl', 'rb')\n",
    "nn = pickle.load(output)\n",
    "output.close()"
   ]
  }
 ],
 "metadata": {
  "kernelspec": {
   "name": "Python 3.8.5 64-bit ('Josered30': conda)",
   "display_name": "Python 3.8.5 64-bit ('Josered30': conda)",
   "metadata": {
    "interpreter": {
     "hash": "dd23ca8811b38879fda96944da089c8da825265b25f70ec47b2de265f93fa09f"
    }
   }
  }
 },
 "nbformat": 4,
 "nbformat_minor": 4
}