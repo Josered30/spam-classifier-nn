{
 "cells": [
  {
   "cell_type": "code",
   "execution_count": 1,
   "metadata": {},
   "outputs": [],
   "source": [
    "import pandas as pd\n",
    "import numpy as np\n",
    "import nltk\n",
    "import re\n",
    "import datetime\n",
    "import math\n",
    "import matplotlib.pyplot as plt\n",
    "import pickle \n",
    "import copy\n",
    "\n",
    "from heapq import nlargest\n",
    "from nltk.corpus import stopwords \n",
    "from collections import OrderedDict\n",
    "from itertools import islice\n",
    "from nltk.stem import PorterStemmer\n",
    "from nltk.stem import WordNetLemmatizer"
   ]
  },
  {
   "source": [
    "# Neural Network spam classifier\n",
    "In order to classify messages as spam or ham, we are going to use a neural network. This model have one input, hidden and output layer, and the sigmoid function as activation function."
   ],
   "cell_type": "markdown",
   "metadata": {}
  },
  {
   "cell_type": "code",
   "execution_count": 2,
   "metadata": {},
   "outputs": [],
   "source": [
    "class NeuralNetwork:\n",
    "    def __init__(self, input_nodes, hidden_nodes, output_nodes, learning_rate=0.1):\n",
    "        self.input_nodes = input_nodes\n",
    "        self.hidden_nodes = hidden_nodes\n",
    "        self.output_nodes = output_nodes\n",
    "        self.weights_input_hidden = np.random.uniform(-1,1,size=(hidden_nodes, input_nodes))\n",
    "        self.weights_hidden_output = np.random.uniform(-1,1,size=(output_nodes, hidden_nodes))\n",
    "        self.bias_hidden = np.ones((hidden_nodes,1))\n",
    "        self.bias_output = np.ones((output_nodes,1))\n",
    "        self.learning_rate=learning_rate\n",
    "        \n",
    "    def sigmoid(self,x):\n",
    "        return 1/(1+ math.exp(-x))\n",
    "    \n",
    "    def derivate(self,x):\n",
    "        return x*(1-x)\n",
    "    \n",
    "   \n",
    "    def feedforward(self,input_v):\n",
    "        sigmoid_vector = np.vectorize(self.sigmoid)\n",
    "        \n",
    "        input_vector = input_v.reshape((self.input_nodes,1))\n",
    "    \n",
    "        hidden = np.dot(self.weights_input_hidden,input_vector)\n",
    "        hidden = np.add(hidden, self.bias_hidden)\n",
    "        hidden = sigmoid_vector(hidden)\n",
    "    \n",
    "        output = np.dot(self.weights_hidden_output, hidden)\n",
    "        output = np.add(output, self.bias_output)\n",
    "        output = sigmoid_vector(output)\n",
    "    \n",
    "        return output\n",
    "    \n",
    "    def backpropagation(self, input_v, target_v):\n",
    "        input_vector = input_v.reshape((self.input_nodes,1))\n",
    "        target_vector = target_v.reshape((self.output_nodes,1))\n",
    "        \n",
    "        sigmoid_vector = np.vectorize(self.sigmoid)\n",
    "        derivate_vector = np.vectorize(self.derivate)\n",
    "    \n",
    "        hidden = np.dot(self.weights_input_hidden,input_vector)\n",
    "        hidden = np.add(hidden, self.bias_hidden)\n",
    "        hidden = sigmoid_vector(hidden)\n",
    "        \n",
    "        output = np.dot(self.weights_hidden_output, hidden)\n",
    "        output = np.add(output, self.bias_output)\n",
    "        output = sigmoid_vector(output)\n",
    "\n",
    "        \n",
    "\n",
    "        output_error = np.subtract(target_vector,output)\n",
    "        error = output_error.sum(0)\n",
    "        \n",
    "        gradient = derivate_vector(output)\n",
    "        gradient = np.multiply(gradient,output_error)\n",
    "        gradient = np.multiply(gradient, self.learning_rate)\n",
    "        \n",
    "        hidden_transpose = np.transpose(hidden)\n",
    "        weights_ho_deltas = np.dot(gradient, hidden_transpose)\n",
    "        \n",
    "        self.weights_hidden_output = np.add(self.weights_hidden_output, weights_ho_deltas)\n",
    "        self.bias_output = np.add(self.bias_output, gradient)\n",
    "        \n",
    "        \n",
    "        transpose_weights_hidden_output = np.transpose(self.weights_hidden_output)\n",
    "        hidden_error = np.dot(transpose_weights_hidden_output, output_error)\n",
    "        \n",
    "    \n",
    "        hidden_gradient = derivate_vector(hidden)\n",
    "        hidden_gradient = np.multiply(hidden_gradient, hidden_error)\n",
    "        hidden_gradient = np.multiply(hidden_gradient, self.learning_rate)\n",
    "        \n",
    "        input_transpose = np.transpose(input_vector)\n",
    "        weights_ih_deltas = np.dot(hidden_gradient, input_transpose)\n",
    "        \n",
    "        self.weights_input_hidden = np.add(self.weights_input_hidden, weights_ih_deltas)\n",
    "        self.bias_hidden = np.add(self.bias_hidden, hidden_gradient)\n",
    "\n",
    "        return error\n",
    "    \n",
    "\n",
    "    def train(self, train_dataframe, epochs):\n",
    "        spam = 0\n",
    "        ham = 0\n",
    "        iteration = 0\n",
    "        error_sample = 200\n",
    "        errors = []\n",
    "\n",
    "        for i in range(epochs):\n",
    "            print(\"Epoch\", i)\n",
    "            for index, row in train_dataframe.iterrows():\n",
    "                spam+=(row['label_tag'])  \n",
    "                input_v = row.to_numpy()\n",
    "                input_v = input_v[1:len(input_v)-1]\n",
    "                target_v = np.array([row['label_tag']])\n",
    "                error = self.backpropagation(input_v, target_v)\n",
    "                \n",
    "                if iteration%error_sample == 0:\n",
    "                    errors.append(error)\n",
    "                    print(\"Iteration\", iteration, \"error\", error)\n",
    "                iteration += 1\n",
    "            print(\"\\n\")\n",
    "            \n",
    "        ham = (len(train_dataframe)*epochs)-spam\n",
    "        print(f\"Spam:{spam} - Ham:{ham}\")\n",
    "        print(\"Done\")  \n",
    "\n",
    "        return np.array(errors)"
   ]
  },
  {
   "source": [
    "### These are utils class for parsing, reading and saving data from the datasets"
   ],
   "cell_type": "markdown",
   "metadata": {}
  },
  {
   "cell_type": "code",
   "execution_count": 14,
   "metadata": {},
   "outputs": [],
   "source": [
    "class DataUtil:\n",
    "    stemmer = PorterStemmer()\n",
    "    lemmatizer = WordNetLemmatizer()\n",
    "    stop_words = set(stopwords.words('english'))\n",
    "\n",
    "    @staticmethod\n",
    "    def normalize_data(message):\n",
    "        message = re.sub(r\"\\$[\\d]+\",'price',message)\n",
    "        message = re.sub(r\"\\%[\\d]+\",'percentage',message)\n",
    "        message = re.sub(r\"http[s]?://(?:[a-zA-Z]|[0-9]|[$-_@.&+]|[!*\\(\\),]|(?:%[0-9a-fA-F][0-9a-fA-F]))+\",'url',message)\n",
    "        message = re.sub(r\"www.(?:[a-zA-Z]|[0-9]|[$-_@.&+]|[!*\\(\\),]|(?:%[0-9a-fA-F][0-9a-fA-F]))+\",'url',message)\n",
    "        message = re.sub(r\"(^[a-zA-Z0-9_.+-]+@[a-zA-Z0-9-]+\\.[a-zA-Z0-9-.]+$)\",'email',message)\n",
    "        message = re.sub(r'[\\W\\s\\d]',' ',message)\n",
    "        return message\n",
    "\n",
    "    @staticmethod\n",
    "    def clean_data(message):\n",
    "        message = message.lower() \n",
    "        message = DataUtil.normalize_data(message)\n",
    "        words = nltk.word_tokenize(message)\n",
    "\n",
    "        result = []\n",
    "        for word in words:\n",
    "            if word not in DataUtil.stop_words and len(word)>2:   \n",
    "                #words = DataUtil.stemmer.stem(words[i])\n",
    "                word = DataUtil.lemmatizer.lemmatize(word)\n",
    "                result.append(word)  \n",
    "        return result\n",
    "\n",
    "    @staticmethod\n",
    "    def order_and_take(data, key, n=None):\n",
    "        data = OrderedDict(sorted(data.items(), key=lambda i: i[1][key], reverse=True))\n",
    "        if n!=None:\n",
    "            data = dict(islice(data.items(), n))\n",
    "        return data\n",
    "\n",
    "\n",
    "class DocumentReader:\n",
    "    def __init__(self, document):\n",
    "        self.document = document\n",
    "        self.words_data = {}\n",
    "\n",
    "    def get_words(self):\n",
    "        df = pd.read_csv(self.document)\n",
    "        words_list = dict()\n",
    "\n",
    "        for index, row in df.iterrows():\n",
    "            words = DataUtil.clean_data(row['message'])\n",
    "            for word in words: \n",
    "                if word not in words_list.keys():\n",
    "                    words_list[word] = 1\n",
    "                else:\n",
    "                    words_list[word] += 1\n",
    "        \n",
    "        result = { key:val for key, val in words_list.items() if val > 10}\n",
    "        result = nlargest(3000, result, key=result.get)\n",
    "        return result"
   ]
  },
  {
   "cell_type": "code",
   "execution_count": 7,
   "metadata": {},
   "outputs": [],
   "source": [
    "class Data:\n",
    "    @staticmethod\n",
    "    def tf(sentences):    \n",
    "        words_counter = {}\n",
    "        for index, sentence in enumerate(sentences):\n",
    "            words = DataUtil.clean_data(sentence)\n",
    "            for word in words: \n",
    "                    if word not in words_counter.keys(): \n",
    "                        words_counter[word] = {}\n",
    "                        words_counter[word]['sentences'] = {}\n",
    "                    if index not in words_counter[word]['sentences'].keys():\n",
    "                        words_counter[word]['sentences'][index] = 1/len(words)         \n",
    "                    else:\n",
    "                        words_counter[word]['sentences'][index] += 1/len(words)\n",
    "        return words_counter\n",
    "\n",
    "    @staticmethod\n",
    "    def tf_idf(message):\n",
    "        sentences = nltk.sent_tokenize(message)\n",
    "        words_count = Data.tf(sentences)\n",
    "        words_data = {}\n",
    "\n",
    "        for key, element in words_count.items():\n",
    "            words_data[key] = [0 for i in range(len(sentences))]\n",
    "            idf = math.log(len(sentences)/len(element['sentences']))\n",
    "            for index, sentence_ratio in element['sentences'].items():    \n",
    "                words_data[key][index] = sentence_ratio * idf\n",
    "        return words_data\n",
    "          \n",
    "    @staticmethod\n",
    "    def get_inputs_count(message, words_list):  \n",
    "        words = DataUtil.clean_data(message)  \n",
    "        inputs = np.zeros(len(words_list))\n",
    "\n",
    "        for index, word in enumerate(words_list):\n",
    "            if word in words:\n",
    "                inputs[index] +=1 \n",
    "        return inputs\n",
    "\n",
    "    @staticmethod\n",
    "    def load_unique_words(dataframe):\n",
    "        unique_words = {}\n",
    "        for index,row in dataframe.iterrows():\n",
    "            unique_words[row['word']] = 0\n",
    "        return unique_words\n"
   ]
  },
  {
   "source": [
    "First of all we need to get all the unique words from our dataset, so we parse each message into tokens and keep the 3000 most frequent words"
   ],
   "cell_type": "markdown",
   "metadata": {}
  },
  {
   "cell_type": "code",
   "execution_count": 15,
   "metadata": {
    "tags": []
   },
   "outputs": [
    {
     "output_type": "execute_result",
     "data": {
      "text/plain": [
       "             word\n",
       "0       seriously\n",
       "1            sick\n",
       "2          decide\n",
       "3         forever\n",
       "4           stand\n",
       "...           ...\n",
       "4737  perspective\n",
       "4738    conveying\n",
       "4739     debating\n",
       "4740      florida\n",
       "4741       hidden\n",
       "\n",
       "[4742 rows x 1 columns]"
      ],
      "text/html": "<div>\n<style scoped>\n    .dataframe tbody tr th:only-of-type {\n        vertical-align: middle;\n    }\n\n    .dataframe tbody tr th {\n        vertical-align: top;\n    }\n\n    .dataframe thead th {\n        text-align: right;\n    }\n</style>\n<table border=\"1\" class=\"dataframe\">\n  <thead>\n    <tr style=\"text-align: right;\">\n      <th></th>\n      <th>word</th>\n    </tr>\n  </thead>\n  <tbody>\n    <tr>\n      <th>0</th>\n      <td>seriously</td>\n    </tr>\n    <tr>\n      <th>1</th>\n      <td>sick</td>\n    </tr>\n    <tr>\n      <th>2</th>\n      <td>decide</td>\n    </tr>\n    <tr>\n      <th>3</th>\n      <td>forever</td>\n    </tr>\n    <tr>\n      <th>4</th>\n      <td>stand</td>\n    </tr>\n    <tr>\n      <th>...</th>\n      <td>...</td>\n    </tr>\n    <tr>\n      <th>4737</th>\n      <td>perspective</td>\n    </tr>\n    <tr>\n      <th>4738</th>\n      <td>conveying</td>\n    </tr>\n    <tr>\n      <th>4739</th>\n      <td>debating</td>\n    </tr>\n    <tr>\n      <th>4740</th>\n      <td>florida</td>\n    </tr>\n    <tr>\n      <th>4741</th>\n      <td>hidden</td>\n    </tr>\n  </tbody>\n</table>\n<p>4742 rows × 1 columns</p>\n</div>"
     },
     "metadata": {},
     "execution_count": 15
    }
   ],
   "source": [
    "#ham_document_reader = DocumentReader('ham.csv')\n",
    "#spam_document_reader = DocumentReader('spam.csv')\n",
    "spam_ham_document_reader = DocumentReader('spamham.csv')\n",
    "\n",
    "unique_words = spam_ham_document_reader.get_words()\n",
    "unique_words_df = pd.DataFrame(unique_words, columns=['word'])\n",
    "unique_words_df.to_csv('words.csv')\n",
    "\n",
    "unique_words_df"
   ]
  },
  {
   "source": [
    "Then we load the full dataset and split it into the train and test data"
   ],
   "cell_type": "markdown",
   "metadata": {}
  },
  {
   "cell_type": "code",
   "execution_count": 9,
   "metadata": {},
   "outputs": [
    {
     "output_type": "execute_result",
     "data": {
      "text/plain": [
       "  class                                            message  label_tag\n",
       "0   ham  Go until jurong point, crazy.. Available only ...          0\n",
       "1   ham                      Ok lar... Joking wif u oni...          0\n",
       "2   ham  U dun say so early hor... U c already then say...          0\n",
       "3   ham  Nah I don't think he goes to usf, he lives aro...          0\n",
       "4   ham  Even my brother is not like to speak with me. ...          0"
      ],
      "text/html": "<div>\n<style scoped>\n    .dataframe tbody tr th:only-of-type {\n        vertical-align: middle;\n    }\n\n    .dataframe tbody tr th {\n        vertical-align: top;\n    }\n\n    .dataframe thead th {\n        text-align: right;\n    }\n</style>\n<table border=\"1\" class=\"dataframe\">\n  <thead>\n    <tr style=\"text-align: right;\">\n      <th></th>\n      <th>class</th>\n      <th>message</th>\n      <th>label_tag</th>\n    </tr>\n  </thead>\n  <tbody>\n    <tr>\n      <th>0</th>\n      <td>ham</td>\n      <td>Go until jurong point, crazy.. Available only ...</td>\n      <td>0</td>\n    </tr>\n    <tr>\n      <th>1</th>\n      <td>ham</td>\n      <td>Ok lar... Joking wif u oni...</td>\n      <td>0</td>\n    </tr>\n    <tr>\n      <th>2</th>\n      <td>ham</td>\n      <td>U dun say so early hor... U c already then say...</td>\n      <td>0</td>\n    </tr>\n    <tr>\n      <th>3</th>\n      <td>ham</td>\n      <td>Nah I don't think he goes to usf, he lives aro...</td>\n      <td>0</td>\n    </tr>\n    <tr>\n      <th>4</th>\n      <td>ham</td>\n      <td>Even my brother is not like to speak with me. ...</td>\n      <td>0</td>\n    </tr>\n  </tbody>\n</table>\n</div>"
     },
     "metadata": {},
     "execution_count": 9
    }
   ],
   "source": [
    "df = pd.read_csv('spamham.csv')\n",
    "df[\"label_tag\"] = df[\"class\"].map({'ham':0, 'spam':1})\n",
    "df.head()"
   ]
  },
  {
   "cell_type": "code",
   "execution_count": 10,
   "metadata": {},
   "outputs": [
    {
     "output_type": "execute_result",
     "data": {
      "text/plain": [
       "     class                                            message  label_tag\n",
       "1863   ham            Thank you. And by the way, I just lost.          0\n",
       "4987  spam  URGENT! We are trying to contact U. Todays dra...          1\n",
       "2352   ham     No i am not having not any movies in my laptop          0\n",
       "4840  spam  Please call our customer service representativ...          1\n",
       "1191   ham                                            Oh ok..          0"
      ],
      "text/html": "<div>\n<style scoped>\n    .dataframe tbody tr th:only-of-type {\n        vertical-align: middle;\n    }\n\n    .dataframe tbody tr th {\n        vertical-align: top;\n    }\n\n    .dataframe thead th {\n        text-align: right;\n    }\n</style>\n<table border=\"1\" class=\"dataframe\">\n  <thead>\n    <tr style=\"text-align: right;\">\n      <th></th>\n      <th>class</th>\n      <th>message</th>\n      <th>label_tag</th>\n    </tr>\n  </thead>\n  <tbody>\n    <tr>\n      <th>1863</th>\n      <td>ham</td>\n      <td>Thank you. And by the way, I just lost.</td>\n      <td>0</td>\n    </tr>\n    <tr>\n      <th>4987</th>\n      <td>spam</td>\n      <td>URGENT! We are trying to contact U. Todays dra...</td>\n      <td>1</td>\n    </tr>\n    <tr>\n      <th>2352</th>\n      <td>ham</td>\n      <td>No i am not having not any movies in my laptop</td>\n      <td>0</td>\n    </tr>\n    <tr>\n      <th>4840</th>\n      <td>spam</td>\n      <td>Please call our customer service representativ...</td>\n      <td>1</td>\n    </tr>\n    <tr>\n      <th>1191</th>\n      <td>ham</td>\n      <td>Oh ok..</td>\n      <td>0</td>\n    </tr>\n  </tbody>\n</table>\n</div>"
     },
     "metadata": {},
     "execution_count": 10
    }
   ],
   "source": [
    "train_set = df.sample(frac=0.8)\n",
    "train_set.head()"
   ]
  },
  {
   "cell_type": "code",
   "execution_count": 11,
   "metadata": {},
   "outputs": [
    {
     "output_type": "execute_result",
     "data": {
      "text/plain": [
       "   class                                            message  label_tag\n",
       "5    ham  As per your request 'Melle Melle (Oru Minnamin...          0\n",
       "7    ham  I've been searching for the right words to tha...          0\n",
       "8    ham                I HAVE A DATE ON SUNDAY WITH WILL!!          0\n",
       "15   ham  Aft i finish my lunch then i go str down lor. ...          0\n",
       "19   ham  Did you catch the bus ? Are you frying an egg ...          0"
      ],
      "text/html": "<div>\n<style scoped>\n    .dataframe tbody tr th:only-of-type {\n        vertical-align: middle;\n    }\n\n    .dataframe tbody tr th {\n        vertical-align: top;\n    }\n\n    .dataframe thead th {\n        text-align: right;\n    }\n</style>\n<table border=\"1\" class=\"dataframe\">\n  <thead>\n    <tr style=\"text-align: right;\">\n      <th></th>\n      <th>class</th>\n      <th>message</th>\n      <th>label_tag</th>\n    </tr>\n  </thead>\n  <tbody>\n    <tr>\n      <th>5</th>\n      <td>ham</td>\n      <td>As per your request 'Melle Melle (Oru Minnamin...</td>\n      <td>0</td>\n    </tr>\n    <tr>\n      <th>7</th>\n      <td>ham</td>\n      <td>I've been searching for the right words to tha...</td>\n      <td>0</td>\n    </tr>\n    <tr>\n      <th>8</th>\n      <td>ham</td>\n      <td>I HAVE A DATE ON SUNDAY WITH WILL!!</td>\n      <td>0</td>\n    </tr>\n    <tr>\n      <th>15</th>\n      <td>ham</td>\n      <td>Aft i finish my lunch then i go str down lor. ...</td>\n      <td>0</td>\n    </tr>\n    <tr>\n      <th>19</th>\n      <td>ham</td>\n      <td>Did you catch the bus ? Are you frying an egg ...</td>\n      <td>0</td>\n    </tr>\n  </tbody>\n</table>\n</div>"
     },
     "metadata": {},
     "execution_count": 11
    }
   ],
   "source": [
    "test_set = df.drop(train_set.index)\n",
    "test_set.head()"
   ]
  },
  {
   "source": [
    "Now we get the inputs for all the train set. Each input is an array of lenght N, where N is the number of unique words in out dataset and its value, the frequency of each word in the message"
   ],
   "cell_type": "markdown",
   "metadata": {}
  },
  {
   "cell_type": "code",
   "execution_count": 12,
   "metadata": {
    "tags": []
   },
   "outputs": [
    {
     "output_type": "error",
     "ename": "TypeError",
     "evalue": "object of type 'NoneType' has no len()",
     "traceback": [
      "\u001b[1;31m---------------------------------------------------------------------------\u001b[0m",
      "\u001b[1;31mTypeError\u001b[0m                                 Traceback (most recent call last)",
      "\u001b[1;32m<ipython-input-12-2d9da8d78181>\u001b[0m in \u001b[0;36m<module>\u001b[1;34m\u001b[0m\n\u001b[1;32m----> 1\u001b[1;33m \u001b[0mtrain_data_set\u001b[0m \u001b[1;33m=\u001b[0m \u001b[0mnp\u001b[0m\u001b[1;33m.\u001b[0m\u001b[0mzeros\u001b[0m\u001b[1;33m(\u001b[0m\u001b[1;33m(\u001b[0m\u001b[0mlen\u001b[0m\u001b[1;33m(\u001b[0m\u001b[0mtrain_set\u001b[0m\u001b[1;33m)\u001b[0m\u001b[1;33m,\u001b[0m\u001b[0mlen\u001b[0m\u001b[1;33m(\u001b[0m\u001b[0munique_words\u001b[0m\u001b[1;33m)\u001b[0m\u001b[1;33m+\u001b[0m\u001b[1;36m1\u001b[0m\u001b[1;33m)\u001b[0m\u001b[1;33m)\u001b[0m\u001b[1;33m\u001b[0m\u001b[1;33m\u001b[0m\u001b[0m\n\u001b[0m\u001b[0;32m      2\u001b[0m \u001b[0miter\u001b[0m \u001b[1;33m=\u001b[0m \u001b[1;36m0\u001b[0m\u001b[1;33m\u001b[0m\u001b[1;33m\u001b[0m\u001b[0m\n\u001b[0;32m      3\u001b[0m \u001b[1;33m\u001b[0m\u001b[0m\n\u001b[0;32m      4\u001b[0m \u001b[1;32mfor\u001b[0m \u001b[0mindex\u001b[0m\u001b[1;33m,\u001b[0m \u001b[0mrow\u001b[0m \u001b[1;32min\u001b[0m \u001b[0mtrain_set\u001b[0m\u001b[1;33m.\u001b[0m\u001b[0miterrows\u001b[0m\u001b[1;33m(\u001b[0m\u001b[1;33m)\u001b[0m\u001b[1;33m:\u001b[0m\u001b[1;33m\u001b[0m\u001b[1;33m\u001b[0m\u001b[0m\n\u001b[0;32m      5\u001b[0m     \u001b[0minputs\u001b[0m \u001b[1;33m=\u001b[0m \u001b[0mData\u001b[0m\u001b[1;33m.\u001b[0m\u001b[0mget_inputs_count\u001b[0m\u001b[1;33m(\u001b[0m\u001b[0mrow\u001b[0m\u001b[1;33m[\u001b[0m\u001b[1;34m'message'\u001b[0m\u001b[1;33m]\u001b[0m\u001b[1;33m,\u001b[0m\u001b[0munique_words\u001b[0m\u001b[1;33m)\u001b[0m\u001b[1;33m\u001b[0m\u001b[1;33m\u001b[0m\u001b[0m\n",
      "\u001b[1;31mTypeError\u001b[0m: object of type 'NoneType' has no len()"
     ]
    }
   ],
   "source": [
    "train_data_set = np.zeros((len(train_set),len(unique_words)+1))\n",
    "iter = 0\n",
    "\n",
    "for index, row in train_set.iterrows():\n",
    "    inputs = Data.get_inputs_count(row['message'],unique_words)\n",
    "    inputs = np.append(inputs, int(row['label_tag']))\n",
    "    train_data_set[iter] = inputs\n",
    "    iter+=1\n",
    "\n",
    "indexes = [i for i in range(iter)]\n",
    "columns = copy.deepcopy(unique_words)\n",
    "columns.append('label_tag')\n",
    "\n",
    "train_dataframe = pd.DataFrame(data=train_data_set, index = indexes, columns= columns)\n",
    "train_dataframe.to_csv('train_set.csv')"
   ]
  },
  {
   "source": [
    "Now we create a neural network with input, hidden and output layer of size N, N+1//2 and 1 size. Each unique word will be represented as an element in the input layer and we expect an unique result (1 spam - 0 ham).\n",
    "\n",
    "- N is the number of unique words"
   ],
   "cell_type": "markdown",
   "metadata": {}
  },
  {
   "cell_type": "code",
   "execution_count": 10,
   "metadata": {},
   "outputs": [
    {
     "output_type": "stream",
     "name": "stdout",
     "text": [
      "Epoch 0\n",
      "Iteration 0 error [-0.15522628]\n",
      "Iteration 200 error [-9.91456562e-05]\n",
      "Iteration 400 error [-4.71093609e-06]\n",
      "Iteration 600 error [-2.53132995e-06]\n",
      "Iteration 800 error [-2.21483557e-06]\n",
      "Iteration 1000 error [0.95560062]\n",
      "Iteration 1200 error [-0.61417075]\n",
      "Iteration 1400 error [-1.04064764e-07]\n",
      "Iteration 1600 error [-0.00285902]\n",
      "Iteration 1800 error [-5.45097549e-05]\n",
      "Iteration 2000 error [-0.01430768]\n",
      "Iteration 2200 error [-1.78161095e-08]\n",
      "Iteration 2400 error [-0.00013263]\n",
      "Iteration 2600 error [-1.93691723e-05]\n",
      "Iteration 2800 error [-0.28295806]\n",
      "Iteration 3000 error [-0.01649678]\n",
      "Iteration 3200 error [-5.19674965e-06]\n",
      "Iteration 3400 error [-2.74328323e-08]\n",
      "Iteration 3600 error [-2.38708517e-05]\n",
      "Iteration 3800 error [-1.17407869e-06]\n",
      "Iteration 4000 error [-4.35168839e-10]\n",
      "Iteration 4200 error [-1.78183992e-09]\n",
      "Iteration 4400 error [-0.00220549]\n",
      "\n",
      "\n",
      "Epoch 1\n",
      "Iteration 4600 error [-1.28548018e-06]\n",
      "Iteration 4800 error [3.04590121e-06]\n",
      "Iteration 5000 error [-7.01189539e-05]\n",
      "Iteration 5200 error [-0.00159825]\n",
      "Iteration 5400 error [-3.85475262e-07]\n",
      "Iteration 5600 error [-5.88937251e-09]\n",
      "Iteration 5800 error [-0.07072532]\n",
      "Iteration 6000 error [-7.340667e-05]\n",
      "Iteration 6200 error [-4.12005464e-06]\n",
      "Iteration 6400 error [-4.80406192e-12]\n",
      "Iteration 6600 error [-2.33631205e-07]\n",
      "Iteration 6800 error [-0.00716371]\n",
      "Iteration 7000 error [-0.00150914]\n",
      "Iteration 7200 error [-0.00178487]\n",
      "Iteration 7400 error [-0.0005219]\n",
      "Iteration 7600 error [-0.00018323]\n",
      "Iteration 7800 error [-0.00027291]\n",
      "Iteration 8000 error [-3.12838483e-08]\n",
      "Iteration 8200 error [-0.00964887]\n",
      "Iteration 8400 error [-9.07419502e-06]\n",
      "Iteration 8600 error [0.07439456]\n",
      "Iteration 8800 error [0.46972031]\n",
      "\n",
      "\n",
      "Epoch 2\n",
      "Iteration 9000 error [-7.73051715e-06]\n",
      "Iteration 9200 error [-0.00016944]\n",
      "Iteration 9400 error [-0.00058764]\n",
      "Iteration 9600 error [-2.36365507e-11]\n",
      "Iteration 9800 error [-0.06026332]\n",
      "Iteration 10000 error [-5.58750275e-08]\n",
      "Iteration 10200 error [-3.56126022e-07]\n",
      "Iteration 10400 error [-3.52933384e-07]\n",
      "Iteration 10600 error [0.00722939]\n",
      "Iteration 10800 error [-0.00013962]\n",
      "Iteration 11000 error [-0.87550975]\n",
      "Iteration 11200 error [-0.44674629]\n",
      "Iteration 11400 error [-5.13973189e-06]\n",
      "Iteration 11600 error [-0.00051642]\n",
      "Iteration 11800 error [-1.01018967e-05]\n",
      "Iteration 12000 error [-0.01480462]\n",
      "Iteration 12200 error [-5.34200599e-07]\n",
      "Iteration 12400 error [-9.58957262e-06]\n",
      "Iteration 12600 error [-4.47972489e-06]\n",
      "Iteration 12800 error [0.13859954]\n",
      "Iteration 13000 error [-1.13668396e-06]\n",
      "Iteration 13200 error [-2.20066142e-05]\n",
      "\n",
      "\n",
      "Spam:1797.0 - Ham:11577.0\n",
      "Done\n"
     ]
    },
    {
     "output_type": "display_data",
     "data": {
      "text/plain": "<Figure size 432x288 with 1 Axes>",
      "image/svg+xml": "<?xml version=\"1.0\" encoding=\"utf-8\" standalone=\"no\"?>\r\n<!DOCTYPE svg PUBLIC \"-//W3C//DTD SVG 1.1//EN\"\r\n  \"http://www.w3.org/Graphics/SVG/1.1/DTD/svg11.dtd\">\r\n<!-- Created with matplotlib (https://matplotlib.org/) -->\r\n<svg height=\"248.518125pt\" version=\"1.1\" viewBox=\"0 0 391.824341 248.518125\" width=\"391.824341pt\" xmlns=\"http://www.w3.org/2000/svg\" xmlns:xlink=\"http://www.w3.org/1999/xlink\">\r\n <metadata>\r\n  <rdf:RDF xmlns:cc=\"http://creativecommons.org/ns#\" xmlns:dc=\"http://purl.org/dc/elements/1.1/\" xmlns:rdf=\"http://www.w3.org/1999/02/22-rdf-syntax-ns#\">\r\n   <cc:Work>\r\n    <dc:type rdf:resource=\"http://purl.org/dc/dcmitype/StillImage\"/>\r\n    <dc:date>2020-11-06T10:10:37.052727</dc:date>\r\n    <dc:format>image/svg+xml</dc:format>\r\n    <dc:creator>\r\n     <cc:Agent>\r\n      <dc:title>Matplotlib v3.3.1, https://matplotlib.org/</dc:title>\r\n     </cc:Agent>\r\n    </dc:creator>\r\n   </cc:Work>\r\n  </rdf:RDF>\r\n </metadata>\r\n <defs>\r\n  <style type=\"text/css\">*{stroke-linecap:butt;stroke-linejoin:round;}</style>\r\n </defs>\r\n <g id=\"figure_1\">\r\n  <g id=\"patch_1\">\r\n   <path d=\"M 0 248.518125 \r\nL 391.824341 248.518125 \r\nL 391.824341 0 \r\nL 0 0 \r\nz\r\n\" style=\"fill:none;\"/>\r\n  </g>\r\n  <g id=\"axes_1\">\r\n   <g id=\"patch_2\">\r\n    <path d=\"M 44.845313 224.64 \r\nL 379.645313 224.64 \r\nL 379.645313 7.2 \r\nL 44.845313 7.2 \r\nz\r\n\" style=\"fill:#ffffff;\"/>\r\n   </g>\r\n   <g id=\"matplotlib.axis_1\">\r\n    <g id=\"xtick_1\">\r\n     <g id=\"line2d_1\">\r\n      <defs>\r\n       <path d=\"M 0 0 \r\nL 0 3.5 \r\n\" id=\"md57a4c86ff\" style=\"stroke:#000000;stroke-width:0.8;\"/>\r\n      </defs>\r\n      <g>\r\n       <use style=\"stroke:#000000;stroke-width:0.8;\" x=\"55.451924\" xlink:href=\"#md57a4c86ff\" y=\"224.64\"/>\r\n      </g>\r\n     </g>\r\n     <g id=\"text_1\">\r\n      <!-- 0 -->\r\n      <g transform=\"translate(52.270674 239.238437)scale(0.1 -0.1)\">\r\n       <defs>\r\n        <path d=\"M 31.78125 66.40625 \r\nQ 24.171875 66.40625 20.328125 58.90625 \r\nQ 16.5 51.421875 16.5 36.375 \r\nQ 16.5 21.390625 20.328125 13.890625 \r\nQ 24.171875 6.390625 31.78125 6.390625 \r\nQ 39.453125 6.390625 43.28125 13.890625 \r\nQ 47.125 21.390625 47.125 36.375 \r\nQ 47.125 51.421875 43.28125 58.90625 \r\nQ 39.453125 66.40625 31.78125 66.40625 \r\nz\r\nM 31.78125 74.21875 \r\nQ 44.046875 74.21875 50.515625 64.515625 \r\nQ 56.984375 54.828125 56.984375 36.375 \r\nQ 56.984375 17.96875 50.515625 8.265625 \r\nQ 44.046875 -1.421875 31.78125 -1.421875 \r\nQ 19.53125 -1.421875 13.0625 8.265625 \r\nQ 6.59375 17.96875 6.59375 36.375 \r\nQ 6.59375 54.828125 13.0625 64.515625 \r\nQ 19.53125 74.21875 31.78125 74.21875 \r\nz\r\n\" id=\"DejaVuSans-48\"/>\r\n       </defs>\r\n       <use xlink:href=\"#DejaVuSans-48\"/>\r\n      </g>\r\n     </g>\r\n    </g>\r\n    <g id=\"xtick_2\">\r\n     <g id=\"line2d_2\">\r\n      <g>\r\n       <use style=\"stroke:#000000;stroke-width:0.8;\" x=\"101.567627\" xlink:href=\"#md57a4c86ff\" y=\"224.64\"/>\r\n      </g>\r\n     </g>\r\n     <g id=\"text_2\">\r\n      <!-- 10 -->\r\n      <g transform=\"translate(95.205127 239.238437)scale(0.1 -0.1)\">\r\n       <defs>\r\n        <path d=\"M 12.40625 8.296875 \r\nL 28.515625 8.296875 \r\nL 28.515625 63.921875 \r\nL 10.984375 60.40625 \r\nL 10.984375 69.390625 \r\nL 28.421875 72.90625 \r\nL 38.28125 72.90625 \r\nL 38.28125 8.296875 \r\nL 54.390625 8.296875 \r\nL 54.390625 0 \r\nL 12.40625 0 \r\nz\r\n\" id=\"DejaVuSans-49\"/>\r\n       </defs>\r\n       <use xlink:href=\"#DejaVuSans-49\"/>\r\n       <use x=\"63.623047\" xlink:href=\"#DejaVuSans-48\"/>\r\n      </g>\r\n     </g>\r\n    </g>\r\n    <g id=\"xtick_3\">\r\n     <g id=\"line2d_3\">\r\n      <g>\r\n       <use style=\"stroke:#000000;stroke-width:0.8;\" x=\"147.683329\" xlink:href=\"#md57a4c86ff\" y=\"224.64\"/>\r\n      </g>\r\n     </g>\r\n     <g id=\"text_3\">\r\n      <!-- 20 -->\r\n      <g transform=\"translate(141.320829 239.238437)scale(0.1 -0.1)\">\r\n       <defs>\r\n        <path d=\"M 19.1875 8.296875 \r\nL 53.609375 8.296875 \r\nL 53.609375 0 \r\nL 7.328125 0 \r\nL 7.328125 8.296875 \r\nQ 12.9375 14.109375 22.625 23.890625 \r\nQ 32.328125 33.6875 34.8125 36.53125 \r\nQ 39.546875 41.84375 41.421875 45.53125 \r\nQ 43.3125 49.21875 43.3125 52.78125 \r\nQ 43.3125 58.59375 39.234375 62.25 \r\nQ 35.15625 65.921875 28.609375 65.921875 \r\nQ 23.96875 65.921875 18.8125 64.3125 \r\nQ 13.671875 62.703125 7.8125 59.421875 \r\nL 7.8125 69.390625 \r\nQ 13.765625 71.78125 18.9375 73 \r\nQ 24.125 74.21875 28.421875 74.21875 \r\nQ 39.75 74.21875 46.484375 68.546875 \r\nQ 53.21875 62.890625 53.21875 53.421875 \r\nQ 53.21875 48.921875 51.53125 44.890625 \r\nQ 49.859375 40.875 45.40625 35.40625 \r\nQ 44.1875 33.984375 37.640625 27.21875 \r\nQ 31.109375 20.453125 19.1875 8.296875 \r\nz\r\n\" id=\"DejaVuSans-50\"/>\r\n       </defs>\r\n       <use xlink:href=\"#DejaVuSans-50\"/>\r\n       <use x=\"63.623047\" xlink:href=\"#DejaVuSans-48\"/>\r\n      </g>\r\n     </g>\r\n    </g>\r\n    <g id=\"xtick_4\">\r\n     <g id=\"line2d_4\">\r\n      <g>\r\n       <use style=\"stroke:#000000;stroke-width:0.8;\" x=\"193.799032\" xlink:href=\"#md57a4c86ff\" y=\"224.64\"/>\r\n      </g>\r\n     </g>\r\n     <g id=\"text_4\">\r\n      <!-- 30 -->\r\n      <g transform=\"translate(187.436532 239.238437)scale(0.1 -0.1)\">\r\n       <defs>\r\n        <path d=\"M 40.578125 39.3125 \r\nQ 47.65625 37.796875 51.625 33 \r\nQ 55.609375 28.21875 55.609375 21.1875 \r\nQ 55.609375 10.40625 48.1875 4.484375 \r\nQ 40.765625 -1.421875 27.09375 -1.421875 \r\nQ 22.515625 -1.421875 17.65625 -0.515625 \r\nQ 12.796875 0.390625 7.625 2.203125 \r\nL 7.625 11.71875 \r\nQ 11.71875 9.328125 16.59375 8.109375 \r\nQ 21.484375 6.890625 26.8125 6.890625 \r\nQ 36.078125 6.890625 40.9375 10.546875 \r\nQ 45.796875 14.203125 45.796875 21.1875 \r\nQ 45.796875 27.640625 41.28125 31.265625 \r\nQ 36.765625 34.90625 28.71875 34.90625 \r\nL 20.21875 34.90625 \r\nL 20.21875 43.015625 \r\nL 29.109375 43.015625 \r\nQ 36.375 43.015625 40.234375 45.921875 \r\nQ 44.09375 48.828125 44.09375 54.296875 \r\nQ 44.09375 59.90625 40.109375 62.90625 \r\nQ 36.140625 65.921875 28.71875 65.921875 \r\nQ 24.65625 65.921875 20.015625 65.03125 \r\nQ 15.375 64.15625 9.8125 62.3125 \r\nL 9.8125 71.09375 \r\nQ 15.4375 72.65625 20.34375 73.4375 \r\nQ 25.25 74.21875 29.59375 74.21875 \r\nQ 40.828125 74.21875 47.359375 69.109375 \r\nQ 53.90625 64.015625 53.90625 55.328125 \r\nQ 53.90625 49.265625 50.4375 45.09375 \r\nQ 46.96875 40.921875 40.578125 39.3125 \r\nz\r\n\" id=\"DejaVuSans-51\"/>\r\n       </defs>\r\n       <use xlink:href=\"#DejaVuSans-51\"/>\r\n       <use x=\"63.623047\" xlink:href=\"#DejaVuSans-48\"/>\r\n      </g>\r\n     </g>\r\n    </g>\r\n    <g id=\"xtick_5\">\r\n     <g id=\"line2d_5\">\r\n      <g>\r\n       <use style=\"stroke:#000000;stroke-width:0.8;\" x=\"239.914734\" xlink:href=\"#md57a4c86ff\" y=\"224.64\"/>\r\n      </g>\r\n     </g>\r\n     <g id=\"text_5\">\r\n      <!-- 40 -->\r\n      <g transform=\"translate(233.552234 239.238437)scale(0.1 -0.1)\">\r\n       <defs>\r\n        <path d=\"M 37.796875 64.3125 \r\nL 12.890625 25.390625 \r\nL 37.796875 25.390625 \r\nz\r\nM 35.203125 72.90625 \r\nL 47.609375 72.90625 \r\nL 47.609375 25.390625 \r\nL 58.015625 25.390625 \r\nL 58.015625 17.1875 \r\nL 47.609375 17.1875 \r\nL 47.609375 0 \r\nL 37.796875 0 \r\nL 37.796875 17.1875 \r\nL 4.890625 17.1875 \r\nL 4.890625 26.703125 \r\nz\r\n\" id=\"DejaVuSans-52\"/>\r\n       </defs>\r\n       <use xlink:href=\"#DejaVuSans-52\"/>\r\n       <use x=\"63.623047\" xlink:href=\"#DejaVuSans-48\"/>\r\n      </g>\r\n     </g>\r\n    </g>\r\n    <g id=\"xtick_6\">\r\n     <g id=\"line2d_6\">\r\n      <g>\r\n       <use style=\"stroke:#000000;stroke-width:0.8;\" x=\"286.030436\" xlink:href=\"#md57a4c86ff\" y=\"224.64\"/>\r\n      </g>\r\n     </g>\r\n     <g id=\"text_6\">\r\n      <!-- 50 -->\r\n      <g transform=\"translate(279.667936 239.238437)scale(0.1 -0.1)\">\r\n       <defs>\r\n        <path d=\"M 10.796875 72.90625 \r\nL 49.515625 72.90625 \r\nL 49.515625 64.59375 \r\nL 19.828125 64.59375 \r\nL 19.828125 46.734375 \r\nQ 21.96875 47.46875 24.109375 47.828125 \r\nQ 26.265625 48.1875 28.421875 48.1875 \r\nQ 40.625 48.1875 47.75 41.5 \r\nQ 54.890625 34.8125 54.890625 23.390625 \r\nQ 54.890625 11.625 47.5625 5.09375 \r\nQ 40.234375 -1.421875 26.90625 -1.421875 \r\nQ 22.3125 -1.421875 17.546875 -0.640625 \r\nQ 12.796875 0.140625 7.71875 1.703125 \r\nL 7.71875 11.625 \r\nQ 12.109375 9.234375 16.796875 8.0625 \r\nQ 21.484375 6.890625 26.703125 6.890625 \r\nQ 35.15625 6.890625 40.078125 11.328125 \r\nQ 45.015625 15.765625 45.015625 23.390625 \r\nQ 45.015625 31 40.078125 35.4375 \r\nQ 35.15625 39.890625 26.703125 39.890625 \r\nQ 22.75 39.890625 18.8125 39.015625 \r\nQ 14.890625 38.140625 10.796875 36.28125 \r\nz\r\n\" id=\"DejaVuSans-53\"/>\r\n       </defs>\r\n       <use xlink:href=\"#DejaVuSans-53\"/>\r\n       <use x=\"63.623047\" xlink:href=\"#DejaVuSans-48\"/>\r\n      </g>\r\n     </g>\r\n    </g>\r\n    <g id=\"xtick_7\">\r\n     <g id=\"line2d_7\">\r\n      <g>\r\n       <use style=\"stroke:#000000;stroke-width:0.8;\" x=\"332.146139\" xlink:href=\"#md57a4c86ff\" y=\"224.64\"/>\r\n      </g>\r\n     </g>\r\n     <g id=\"text_7\">\r\n      <!-- 60 -->\r\n      <g transform=\"translate(325.783639 239.238437)scale(0.1 -0.1)\">\r\n       <defs>\r\n        <path d=\"M 33.015625 40.375 \r\nQ 26.375 40.375 22.484375 35.828125 \r\nQ 18.609375 31.296875 18.609375 23.390625 \r\nQ 18.609375 15.53125 22.484375 10.953125 \r\nQ 26.375 6.390625 33.015625 6.390625 \r\nQ 39.65625 6.390625 43.53125 10.953125 \r\nQ 47.40625 15.53125 47.40625 23.390625 \r\nQ 47.40625 31.296875 43.53125 35.828125 \r\nQ 39.65625 40.375 33.015625 40.375 \r\nz\r\nM 52.59375 71.296875 \r\nL 52.59375 62.3125 \r\nQ 48.875 64.0625 45.09375 64.984375 \r\nQ 41.3125 65.921875 37.59375 65.921875 \r\nQ 27.828125 65.921875 22.671875 59.328125 \r\nQ 17.53125 52.734375 16.796875 39.40625 \r\nQ 19.671875 43.65625 24.015625 45.921875 \r\nQ 28.375 48.1875 33.59375 48.1875 \r\nQ 44.578125 48.1875 50.953125 41.515625 \r\nQ 57.328125 34.859375 57.328125 23.390625 \r\nQ 57.328125 12.15625 50.6875 5.359375 \r\nQ 44.046875 -1.421875 33.015625 -1.421875 \r\nQ 20.359375 -1.421875 13.671875 8.265625 \r\nQ 6.984375 17.96875 6.984375 36.375 \r\nQ 6.984375 53.65625 15.1875 63.9375 \r\nQ 23.390625 74.21875 37.203125 74.21875 \r\nQ 40.921875 74.21875 44.703125 73.484375 \r\nQ 48.484375 72.75 52.59375 71.296875 \r\nz\r\n\" id=\"DejaVuSans-54\"/>\r\n       </defs>\r\n       <use xlink:href=\"#DejaVuSans-54\"/>\r\n       <use x=\"63.623047\" xlink:href=\"#DejaVuSans-48\"/>\r\n      </g>\r\n     </g>\r\n    </g>\r\n    <g id=\"xtick_8\">\r\n     <g id=\"line2d_8\">\r\n      <g>\r\n       <use style=\"stroke:#000000;stroke-width:0.8;\" x=\"378.261841\" xlink:href=\"#md57a4c86ff\" y=\"224.64\"/>\r\n      </g>\r\n     </g>\r\n     <g id=\"text_8\">\r\n      <!-- 70 -->\r\n      <g transform=\"translate(371.899341 239.238437)scale(0.1 -0.1)\">\r\n       <defs>\r\n        <path d=\"M 8.203125 72.90625 \r\nL 55.078125 72.90625 \r\nL 55.078125 68.703125 \r\nL 28.609375 0 \r\nL 18.3125 0 \r\nL 43.21875 64.59375 \r\nL 8.203125 64.59375 \r\nz\r\n\" id=\"DejaVuSans-55\"/>\r\n       </defs>\r\n       <use xlink:href=\"#DejaVuSans-55\"/>\r\n       <use x=\"63.623047\" xlink:href=\"#DejaVuSans-48\"/>\r\n      </g>\r\n     </g>\r\n    </g>\r\n   </g>\r\n   <g id=\"matplotlib.axis_2\">\r\n    <g id=\"ytick_1\">\r\n     <g id=\"line2d_9\">\r\n      <defs>\r\n       <path d=\"M 0 0 \r\nL -3.5 0 \r\n\" id=\"m959a75aa3b\" style=\"stroke:#000000;stroke-width:0.8;\"/>\r\n      </defs>\r\n      <g>\r\n       <use style=\"stroke:#000000;stroke-width:0.8;\" x=\"44.845313\" xlink:href=\"#m959a75aa3b\" y=\"201.207287\"/>\r\n      </g>\r\n     </g>\r\n     <g id=\"text_9\">\r\n      <!-- −0.75 -->\r\n      <g transform=\"translate(7.2 205.006506)scale(0.1 -0.1)\">\r\n       <defs>\r\n        <path d=\"M 10.59375 35.5 \r\nL 73.1875 35.5 \r\nL 73.1875 27.203125 \r\nL 10.59375 27.203125 \r\nz\r\n\" id=\"DejaVuSans-8722\"/>\r\n        <path d=\"M 10.6875 12.40625 \r\nL 21 12.40625 \r\nL 21 0 \r\nL 10.6875 0 \r\nz\r\n\" id=\"DejaVuSans-46\"/>\r\n       </defs>\r\n       <use xlink:href=\"#DejaVuSans-8722\"/>\r\n       <use x=\"83.789062\" xlink:href=\"#DejaVuSans-48\"/>\r\n       <use x=\"147.412109\" xlink:href=\"#DejaVuSans-46\"/>\r\n       <use x=\"179.199219\" xlink:href=\"#DejaVuSans-55\"/>\r\n       <use x=\"242.822266\" xlink:href=\"#DejaVuSans-53\"/>\r\n      </g>\r\n     </g>\r\n    </g>\r\n    <g id=\"ytick_2\">\r\n     <g id=\"line2d_10\">\r\n      <g>\r\n       <use style=\"stroke:#000000;stroke-width:0.8;\" x=\"44.845313\" xlink:href=\"#m959a75aa3b\" y=\"174.219191\"/>\r\n      </g>\r\n     </g>\r\n     <g id=\"text_10\">\r\n      <!-- −0.50 -->\r\n      <g transform=\"translate(7.2 178.01841)scale(0.1 -0.1)\">\r\n       <use xlink:href=\"#DejaVuSans-8722\"/>\r\n       <use x=\"83.789062\" xlink:href=\"#DejaVuSans-48\"/>\r\n       <use x=\"147.412109\" xlink:href=\"#DejaVuSans-46\"/>\r\n       <use x=\"179.199219\" xlink:href=\"#DejaVuSans-53\"/>\r\n       <use x=\"242.822266\" xlink:href=\"#DejaVuSans-48\"/>\r\n      </g>\r\n     </g>\r\n    </g>\r\n    <g id=\"ytick_3\">\r\n     <g id=\"line2d_11\">\r\n      <g>\r\n       <use style=\"stroke:#000000;stroke-width:0.8;\" x=\"44.845313\" xlink:href=\"#m959a75aa3b\" y=\"147.231095\"/>\r\n      </g>\r\n     </g>\r\n     <g id=\"text_11\">\r\n      <!-- −0.25 -->\r\n      <g transform=\"translate(7.2 151.030314)scale(0.1 -0.1)\">\r\n       <use xlink:href=\"#DejaVuSans-8722\"/>\r\n       <use x=\"83.789062\" xlink:href=\"#DejaVuSans-48\"/>\r\n       <use x=\"147.412109\" xlink:href=\"#DejaVuSans-46\"/>\r\n       <use x=\"179.199219\" xlink:href=\"#DejaVuSans-50\"/>\r\n       <use x=\"242.822266\" xlink:href=\"#DejaVuSans-53\"/>\r\n      </g>\r\n     </g>\r\n    </g>\r\n    <g id=\"ytick_4\">\r\n     <g id=\"line2d_12\">\r\n      <g>\r\n       <use style=\"stroke:#000000;stroke-width:0.8;\" x=\"44.845313\" xlink:href=\"#m959a75aa3b\" y=\"120.243\"/>\r\n      </g>\r\n     </g>\r\n     <g id=\"text_12\">\r\n      <!-- 0.00 -->\r\n      <g transform=\"translate(15.579688 124.042219)scale(0.1 -0.1)\">\r\n       <use xlink:href=\"#DejaVuSans-48\"/>\r\n       <use x=\"63.623047\" xlink:href=\"#DejaVuSans-46\"/>\r\n       <use x=\"95.410156\" xlink:href=\"#DejaVuSans-48\"/>\r\n       <use x=\"159.033203\" xlink:href=\"#DejaVuSans-48\"/>\r\n      </g>\r\n     </g>\r\n    </g>\r\n    <g id=\"ytick_5\">\r\n     <g id=\"line2d_13\">\r\n      <g>\r\n       <use style=\"stroke:#000000;stroke-width:0.8;\" x=\"44.845313\" xlink:href=\"#m959a75aa3b\" y=\"93.254904\"/>\r\n      </g>\r\n     </g>\r\n     <g id=\"text_13\">\r\n      <!-- 0.25 -->\r\n      <g transform=\"translate(15.579688 97.054123)scale(0.1 -0.1)\">\r\n       <use xlink:href=\"#DejaVuSans-48\"/>\r\n       <use x=\"63.623047\" xlink:href=\"#DejaVuSans-46\"/>\r\n       <use x=\"95.410156\" xlink:href=\"#DejaVuSans-50\"/>\r\n       <use x=\"159.033203\" xlink:href=\"#DejaVuSans-53\"/>\r\n      </g>\r\n     </g>\r\n    </g>\r\n    <g id=\"ytick_6\">\r\n     <g id=\"line2d_14\">\r\n      <g>\r\n       <use style=\"stroke:#000000;stroke-width:0.8;\" x=\"44.845313\" xlink:href=\"#m959a75aa3b\" y=\"66.266808\"/>\r\n      </g>\r\n     </g>\r\n     <g id=\"text_14\">\r\n      <!-- 0.50 -->\r\n      <g transform=\"translate(15.579688 70.066027)scale(0.1 -0.1)\">\r\n       <use xlink:href=\"#DejaVuSans-48\"/>\r\n       <use x=\"63.623047\" xlink:href=\"#DejaVuSans-46\"/>\r\n       <use x=\"95.410156\" xlink:href=\"#DejaVuSans-53\"/>\r\n       <use x=\"159.033203\" xlink:href=\"#DejaVuSans-48\"/>\r\n      </g>\r\n     </g>\r\n    </g>\r\n    <g id=\"ytick_7\">\r\n     <g id=\"line2d_15\">\r\n      <g>\r\n       <use style=\"stroke:#000000;stroke-width:0.8;\" x=\"44.845313\" xlink:href=\"#m959a75aa3b\" y=\"39.278713\"/>\r\n      </g>\r\n     </g>\r\n     <g id=\"text_15\">\r\n      <!-- 0.75 -->\r\n      <g transform=\"translate(15.579688 43.077931)scale(0.1 -0.1)\">\r\n       <use xlink:href=\"#DejaVuSans-48\"/>\r\n       <use x=\"63.623047\" xlink:href=\"#DejaVuSans-46\"/>\r\n       <use x=\"95.410156\" xlink:href=\"#DejaVuSans-55\"/>\r\n       <use x=\"159.033203\" xlink:href=\"#DejaVuSans-53\"/>\r\n      </g>\r\n     </g>\r\n    </g>\r\n    <g id=\"ytick_8\">\r\n     <g id=\"line2d_16\">\r\n      <g>\r\n       <use style=\"stroke:#000000;stroke-width:0.8;\" x=\"44.845313\" xlink:href=\"#m959a75aa3b\" y=\"12.290617\"/>\r\n      </g>\r\n     </g>\r\n     <g id=\"text_16\">\r\n      <!-- 1.00 -->\r\n      <g transform=\"translate(15.579688 16.089836)scale(0.1 -0.1)\">\r\n       <use xlink:href=\"#DejaVuSans-49\"/>\r\n       <use x=\"63.623047\" xlink:href=\"#DejaVuSans-46\"/>\r\n       <use x=\"95.410156\" xlink:href=\"#DejaVuSans-48\"/>\r\n       <use x=\"159.033203\" xlink:href=\"#DejaVuSans-48\"/>\r\n      </g>\r\n     </g>\r\n    </g>\r\n   </g>\r\n   <g id=\"line2d_17\">\r\n    <path clip-path=\"url(#pf4739ef26d)\" d=\"M 60.063494 137.000047 \r\nL 64.675065 120.253703 \r\nL 69.286635 120.243508 \r\nL 73.898205 120.243273 \r\nL 78.509775 120.243239 \r\nL 83.121346 17.083636 \r\nL 87.732916 186.544196 \r\nL 92.344486 120.243011 \r\nL 96.956056 120.551638 \r\nL 101.567627 120.248884 \r\nL 106.179197 121.787548 \r\nL 110.790767 120.243002 \r\nL 115.402337 120.257318 \r\nL 120.013908 120.245091 \r\nL 124.625478 150.788996 \r\nL 129.237048 122.023866 \r\nL 133.848618 120.243561 \r\nL 138.460189 120.243003 \r\nL 143.071759 120.245577 \r\nL 147.683329 120.243127 \r\nL 152.294899 120.243 \r\nL 156.90647 120.243 \r\nL 161.51804 120.481088 \r\nL 166.12961 120.243139 \r\nL 170.74118 120.242671 \r\nL 175.352751 120.250569 \r\nL 179.964321 120.415535 \r\nL 184.575891 120.243041 \r\nL 189.187461 120.243 \r\nL 193.799032 127.877967 \r\nL 198.410602 120.250924 \r\nL 203.022172 120.243445 \r\nL 207.633742 120.243 \r\nL 212.245313 120.243025 \r\nL 216.856883 121.016339 \r\nL 221.468453 120.405916 \r\nL 226.080023 120.435681 \r\nL 230.691593 120.29934 \r\nL 235.303164 120.26278 \r\nL 239.914734 120.272461 \r\nL 244.526304 120.243003 \r\nL 249.137874 121.284618 \r\nL 253.749445 120.243979 \r\nL 258.361015 112.21193 \r\nL 262.972585 69.535573 \r\nL 267.584155 120.243834 \r\nL 272.195726 120.261291 \r\nL 276.807296 120.306437 \r\nL 281.418866 120.243 \r\nL 286.030436 126.748568 \r\nL 290.642007 120.243006 \r\nL 295.253577 120.243038 \r\nL 299.865147 120.243038 \r\nL 304.476717 119.46257 \r\nL 309.088288 120.258072 \r\nL 313.699858 214.756364 \r\nL 318.311428 168.470326 \r\nL 322.922998 120.243555 \r\nL 327.534569 120.298748 \r\nL 332.146139 120.24409 \r\nL 336.757709 121.841194 \r\nL 341.369279 120.243057 \r\nL 345.98085 120.244035 \r\nL 350.59242 120.243483 \r\nL 355.20399 105.280849 \r\nL 359.81556 120.243122 \r\nL 364.427131 120.245375 \r\n\" style=\"fill:none;stroke:#1f77b4;stroke-linecap:square;stroke-width:1.5;\"/>\r\n   </g>\r\n   <g id=\"patch_3\">\r\n    <path d=\"M 44.845313 224.64 \r\nL 44.845313 7.2 \r\n\" style=\"fill:none;stroke:#000000;stroke-linecap:square;stroke-linejoin:miter;stroke-width:0.8;\"/>\r\n   </g>\r\n   <g id=\"patch_4\">\r\n    <path d=\"M 379.645313 224.64 \r\nL 379.645313 7.2 \r\n\" style=\"fill:none;stroke:#000000;stroke-linecap:square;stroke-linejoin:miter;stroke-width:0.8;\"/>\r\n   </g>\r\n   <g id=\"patch_5\">\r\n    <path d=\"M 44.845313 224.64 \r\nL 379.645313 224.64 \r\n\" style=\"fill:none;stroke:#000000;stroke-linecap:square;stroke-linejoin:miter;stroke-width:0.8;\"/>\r\n   </g>\r\n   <g id=\"patch_6\">\r\n    <path d=\"M 44.845313 7.2 \r\nL 379.645313 7.2 \r\n\" style=\"fill:none;stroke:#000000;stroke-linecap:square;stroke-linejoin:miter;stroke-width:0.8;\"/>\r\n   </g>\r\n  </g>\r\n </g>\r\n <defs>\r\n  <clipPath id=\"pf4739ef26d\">\r\n   <rect height=\"217.44\" width=\"334.8\" x=\"44.845313\" y=\"7.2\"/>\r\n  </clipPath>\r\n </defs>\r\n</svg>\r\n",
      "image/png": "[encoded data removed]"
     },
     "metadata": {
      "needs_background": "light"
     }
    }
   ],
   "source": [
    "train_dataframe = pd.read_csv('train_set.csv')\n",
    "nn = NeuralNetwork(len(unique_words), (len(unique_words)+1)//2, 1, 0.01)\n",
    "\n",
    "errors = nn.train(train_dataframe, 3)\n",
    "plt.plot(range(1, len(errors) + 1), errors)\n",
    "plt.show()"
   ]
  },
  {
   "source": [
    "Now we will test the neural network with the test set and finally display its acuaracy. presicion and recal"
   ],
   "cell_type": "markdown",
   "metadata": {}
  },
  {
   "cell_type": "code",
   "execution_count": 15,
   "metadata": {
    "tags": []
   },
   "outputs": [
    {
     "output_type": "stream",
     "name": "stdout",
     "text": [
      "0.9569120287253142\n0.9098360655737705\n0.75\n[[955, 11], [37, 111]]\n"
     ]
    }
   ],
   "source": [
    "acuaracy = 0\n",
    "confusion_matrix = [[0 for i in range(2)] for i in range(2)]\n",
    "\n",
    "for index, row in test_set.iterrows():\n",
    "    #print(row['message'])\n",
    "    input_v = Data.get_inputs_count(row['message'],unique_words)\n",
    "    result = round(nn.feedforward(input_v)[0,0])\n",
    "\n",
    "    if row['label_tag'] == result:\n",
    "         acuaracy+=1\n",
    "    confusion_matrix[row['label_tag']][int(result)] +=1\n",
    "    #print(row['class'], result,'\\n')\n",
    "\n",
    "acuaracy /= len(test_set)\n",
    "presicion = confusion_matrix[1][1]/(confusion_matrix[1][1]+confusion_matrix[0][1])\n",
    "recal = confusion_matrix[1][1]/(confusion_matrix[1][1]+confusion_matrix[1][0])\n",
    "\n",
    "print(acuaracy)\n",
    "print(presicion)\n",
    "print(recal)\n",
    "print(confusion_matrix)"
   ]
  },
  {
   "cell_type": "code",
   "execution_count": 12,
   "metadata": {},
   "outputs": [
    {
     "output_type": "execute_result",
     "data": {
      "text/plain": [
       "       call      tell     claim     prize     enter    mobile  personal  \\\n",
       "0  0.439445  0.219722  0.219722  0.219722  0.000000  0.000000  0.000000   \n",
       "1  0.000000  0.000000  0.000000  0.000000  0.219722  0.219722  0.219722   \n",
       "2  0.000000  0.000000  0.000000  0.000000  0.000000  0.000000  0.000000   \n",
       "\n",
       "     detail    prompt   careful  \n",
       "0  0.000000  0.000000  0.000000  \n",
       "1  0.219722  0.219722  0.000000  \n",
       "2  0.000000  0.000000  1.098612  "
      ],
      "text/html": "<div>\n<style scoped>\n    .dataframe tbody tr th:only-of-type {\n        vertical-align: middle;\n    }\n\n    .dataframe tbody tr th {\n        vertical-align: top;\n    }\n\n    .dataframe thead th {\n        text-align: right;\n    }\n</style>\n<table border=\"1\" class=\"dataframe\">\n  <thead>\n    <tr style=\"text-align: right;\">\n      <th></th>\n      <th>call</th>\n      <th>tell</th>\n      <th>claim</th>\n      <th>prize</th>\n      <th>enter</th>\n      <th>mobile</th>\n      <th>personal</th>\n      <th>detail</th>\n      <th>prompt</th>\n      <th>careful</th>\n    </tr>\n  </thead>\n  <tbody>\n    <tr>\n      <th>0</th>\n      <td>0.439445</td>\n      <td>0.219722</td>\n      <td>0.219722</td>\n      <td>0.219722</td>\n      <td>0.000000</td>\n      <td>0.000000</td>\n      <td>0.000000</td>\n      <td>0.000000</td>\n      <td>0.000000</td>\n      <td>0.000000</td>\n    </tr>\n    <tr>\n      <th>1</th>\n      <td>0.000000</td>\n      <td>0.000000</td>\n      <td>0.000000</td>\n      <td>0.000000</td>\n      <td>0.219722</td>\n      <td>0.219722</td>\n      <td>0.219722</td>\n      <td>0.219722</td>\n      <td>0.219722</td>\n      <td>0.000000</td>\n    </tr>\n    <tr>\n      <th>2</th>\n      <td>0.000000</td>\n      <td>0.000000</td>\n      <td>0.000000</td>\n      <td>0.000000</td>\n      <td>0.000000</td>\n      <td>0.000000</td>\n      <td>0.000000</td>\n      <td>0.000000</td>\n      <td>0.000000</td>\n      <td>1.098612</td>\n    </tr>\n  </tbody>\n</table>\n</div>"
     },
     "metadata": {},
     "execution_count": 12
    }
   ],
   "source": [
    "tf_idf = Data.tf_idf(\"Call from 08702490080 - tells u 2 call 09066358152 to claim ?5000 prize. U have 2 enter all ur mobile & personal details @ the prompts. Careful!\")\n",
    "pd.DataFrame.from_dict(tf_idf)"
   ]
  },
  {
   "source": [
    "Finally we wil save the model in a pkl file"
   ],
   "cell_type": "markdown",
   "metadata": {}
  },
  {
   "cell_type": "code",
   "execution_count": 13,
   "metadata": {},
   "outputs": [],
   "source": [
    "with open('nn.pkl', 'wb') as output:\n",
    "    pickle.dump(nn, output)"
   ]
  },
  {
   "cell_type": "code",
   "execution_count": 14,
   "metadata": {},
   "outputs": [],
   "source": [
    "output = open('nn.pkl', 'rb')\n",
    "nn = pickle.load(output)\n",
    "output.close()"
   ]
  }
 ],
 "metadata": {
  "kernelspec": {
   "name": "Python 3.8.5 64-bit ('Josered30': conda)",
   "display_name": "Python 3.8.5 64-bit ('Josered30': conda)",
   "metadata": {
    "interpreter": {
     "hash": "dd23ca8811b38879fda96944da089c8da825265b25f70ec47b2de265f93fa09f"
    }
   }
  }
 },
 "nbformat": 4,
 "nbformat_minor": 4
}